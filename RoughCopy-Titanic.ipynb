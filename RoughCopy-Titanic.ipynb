{
 "cells": [
  {
   "cell_type": "markdown",
   "metadata": {},
   "source": [
    "# Investigate a Dataset\n",
    "### Case Study: TITANIC Dataset\n",
    "#### By: Claire M.K\n",
    "#### Date: Aug -2017\n",
    "--------------------------------\n",
    "## Introduction:\n",
    "* Titanic was a British passenger liner built by the Harland and wolf Shipyard in Belfast. It was the largest ship afloat at the time it entered service and was the second of three Olympic-class ocean liners operated by the White Star Line. On april 15th 1912 , under the command of Edward smith and carrying an estimate of 2,224 passengers and crew, the ship collided with an iceberg during its maiden voyage from Southampton to New York City. Killing over 1500 people, including her commander Edward smith and Architect Thomas Andrews. “May their Souls rest in Peace”\n",
    "* The ocean liner carried some of the wealthiest people in the world, as well as hundreds of emigrants from Great Britain and Ireland, Scandinavia and elsewhere throughout Europe who were seeking a new life in the United States. The Titanic carried women, men, children and teenagers of all ages from less than a year to 80yrs.The passengers paid different prices and also stayed in different cabins relative to their social and economic class.\n"
   ]
  },
  {
   "cell_type": "markdown",
   "metadata": {},
   "source": [
    "## Dataset\n",
    "The Titanic data set  contains information collected from a sample of 891 passengers from a population of the estimated 2224 people who were aboard the titanic ship on the fateful day when the ship sunck. There is information on gender, social class, Cabins, prices of tickets and port or embarkation."
   ]
  },
  {
   "cell_type": "markdown",
   "metadata": {},
   "source": [
    "### Research Questions: \n",
    "1. Which people survived most?\n",
    "+ What factors contributed to survival?\n",
    "* What were the characteristics of the people who survived?\n",
    "* How does survival relate to gender, class and Age?"
   ]
  },
  {
   "cell_type": "markdown",
   "metadata": {},
   "source": [
    "### Importing required packages "
   ]
  },
  {
   "cell_type": "code",
   "execution_count": 261,
   "metadata": {
    "collapsed": true
   },
   "outputs": [],
   "source": [
    "import pandas as pd\n",
    "import numpy as np\n",
    "from pandas import Series, DataFrame\n",
    "import seaborn as sb\n",
    "\n",
    "import matplotlib.pyplot as plt\n",
    "from matplotlib import rcParams\n",
    "\n",
    "%matplotlib inline\n",
    "rcParams['figure.figsize'] = 5, 4\n",
    "sb.set_style('whitegrid')\n",
    "from scipy.stats.stats import pearsonr"
   ]
  },
  {
   "cell_type": "markdown",
   "metadata": {},
   "source": [
    "## Data Wrangling and Exploration."
   ]
  },
  {
   "cell_type": "markdown",
   "metadata": {},
   "source": [
    "### Getting data from CSV into a dataframe\n",
    "The Titanic data is in a csv file, i will be reading it from excel csv  into a pandas dataframe to be able to work with it better."
   ]
  },
  {
   "cell_type": "code",
   "execution_count": 262,
   "metadata": {},
   "outputs": [
    {
     "data": {
      "text/html": [
       "<div>\n",
       "<style>\n",
       "    .dataframe thead tr:only-child th {\n",
       "        text-align: right;\n",
       "    }\n",
       "\n",
       "    .dataframe thead th {\n",
       "        text-align: left;\n",
       "    }\n",
       "\n",
       "    .dataframe tbody tr th {\n",
       "        vertical-align: top;\n",
       "    }\n",
       "</style>\n",
       "<table border=\"1\" class=\"dataframe\">\n",
       "  <thead>\n",
       "    <tr style=\"text-align: right;\">\n",
       "      <th></th>\n",
       "      <th>PassengerId</th>\n",
       "      <th>Survived</th>\n",
       "      <th>Pclass</th>\n",
       "      <th>Name</th>\n",
       "      <th>Sex</th>\n",
       "      <th>Age</th>\n",
       "      <th>SibSp</th>\n",
       "      <th>Parch</th>\n",
       "      <th>Ticket</th>\n",
       "      <th>Fare</th>\n",
       "      <th>Cabin</th>\n",
       "      <th>Embarked</th>\n",
       "    </tr>\n",
       "  </thead>\n",
       "  <tbody>\n",
       "    <tr>\n",
       "      <th>0</th>\n",
       "      <td>1</td>\n",
       "      <td>0</td>\n",
       "      <td>3</td>\n",
       "      <td>Braund, Mr. Owen Harris</td>\n",
       "      <td>male</td>\n",
       "      <td>22.0</td>\n",
       "      <td>1</td>\n",
       "      <td>0</td>\n",
       "      <td>A/5 21171</td>\n",
       "      <td>7.2500</td>\n",
       "      <td>NaN</td>\n",
       "      <td>S</td>\n",
       "    </tr>\n",
       "    <tr>\n",
       "      <th>1</th>\n",
       "      <td>2</td>\n",
       "      <td>1</td>\n",
       "      <td>1</td>\n",
       "      <td>Cumings, Mrs. John Bradley (Florence Briggs Th...</td>\n",
       "      <td>female</td>\n",
       "      <td>38.0</td>\n",
       "      <td>1</td>\n",
       "      <td>0</td>\n",
       "      <td>PC 17599</td>\n",
       "      <td>71.2833</td>\n",
       "      <td>C85</td>\n",
       "      <td>C</td>\n",
       "    </tr>\n",
       "  </tbody>\n",
       "</table>\n",
       "</div>"
      ],
      "text/plain": [
       "   PassengerId  Survived  Pclass  \\\n",
       "0            1         0       3   \n",
       "1            2         1       1   \n",
       "\n",
       "                                                Name     Sex   Age  SibSp  \\\n",
       "0                            Braund, Mr. Owen Harris    male  22.0      1   \n",
       "1  Cumings, Mrs. John Bradley (Florence Briggs Th...  female  38.0      1   \n",
       "\n",
       "   Parch     Ticket     Fare Cabin Embarked  \n",
       "0      0  A/5 21171   7.2500   NaN        S  \n",
       "1      0   PC 17599  71.2833   C85        C  "
      ]
     },
     "execution_count": 262,
     "metadata": {},
     "output_type": "execute_result"
    }
   ],
   "source": [
    "#geting data from csv \n",
    "titanic_data = pd.read_csv('titanic_data.csv')\n",
    "#displaying the first three rows\n",
    "titanic_data.head(2)"
   ]
  },
  {
   "cell_type": "markdown",
   "metadata": {},
   "source": [
    "## Initial exploration of the data\n",
    "Now that i have my data, its time to take a closer look at whats available. In this section I will be taking a general look into the dataframe, the statistics, general meta data like the number of columns, rows, values, data types and general distributions of the data."
   ]
  },
  {
   "cell_type": "code",
   "execution_count": 263,
   "metadata": {
    "scrolled": true
   },
   "outputs": [
    {
     "data": {
      "text/html": [
       "<div>\n",
       "<style>\n",
       "    .dataframe thead tr:only-child th {\n",
       "        text-align: right;\n",
       "    }\n",
       "\n",
       "    .dataframe thead th {\n",
       "        text-align: left;\n",
       "    }\n",
       "\n",
       "    .dataframe tbody tr th {\n",
       "        vertical-align: top;\n",
       "    }\n",
       "</style>\n",
       "<table border=\"1\" class=\"dataframe\">\n",
       "  <thead>\n",
       "    <tr style=\"text-align: right;\">\n",
       "      <th></th>\n",
       "      <th>PassengerId</th>\n",
       "      <th>Survived</th>\n",
       "      <th>Pclass</th>\n",
       "      <th>Age</th>\n",
       "      <th>SibSp</th>\n",
       "      <th>Parch</th>\n",
       "      <th>Fare</th>\n",
       "    </tr>\n",
       "  </thead>\n",
       "  <tbody>\n",
       "    <tr>\n",
       "      <th>count</th>\n",
       "      <td>891.000000</td>\n",
       "      <td>891.000000</td>\n",
       "      <td>891.000000</td>\n",
       "      <td>714.000000</td>\n",
       "      <td>891.000000</td>\n",
       "      <td>891.000000</td>\n",
       "      <td>891.000000</td>\n",
       "    </tr>\n",
       "    <tr>\n",
       "      <th>mean</th>\n",
       "      <td>446.000000</td>\n",
       "      <td>0.383838</td>\n",
       "      <td>2.308642</td>\n",
       "      <td>29.699118</td>\n",
       "      <td>0.523008</td>\n",
       "      <td>0.381594</td>\n",
       "      <td>32.204208</td>\n",
       "    </tr>\n",
       "    <tr>\n",
       "      <th>std</th>\n",
       "      <td>257.353842</td>\n",
       "      <td>0.486592</td>\n",
       "      <td>0.836071</td>\n",
       "      <td>14.526497</td>\n",
       "      <td>1.102743</td>\n",
       "      <td>0.806057</td>\n",
       "      <td>49.693429</td>\n",
       "    </tr>\n",
       "    <tr>\n",
       "      <th>min</th>\n",
       "      <td>1.000000</td>\n",
       "      <td>0.000000</td>\n",
       "      <td>1.000000</td>\n",
       "      <td>0.420000</td>\n",
       "      <td>0.000000</td>\n",
       "      <td>0.000000</td>\n",
       "      <td>0.000000</td>\n",
       "    </tr>\n",
       "    <tr>\n",
       "      <th>25%</th>\n",
       "      <td>223.500000</td>\n",
       "      <td>0.000000</td>\n",
       "      <td>2.000000</td>\n",
       "      <td>20.125000</td>\n",
       "      <td>0.000000</td>\n",
       "      <td>0.000000</td>\n",
       "      <td>7.910400</td>\n",
       "    </tr>\n",
       "    <tr>\n",
       "      <th>50%</th>\n",
       "      <td>446.000000</td>\n",
       "      <td>0.000000</td>\n",
       "      <td>3.000000</td>\n",
       "      <td>28.000000</td>\n",
       "      <td>0.000000</td>\n",
       "      <td>0.000000</td>\n",
       "      <td>14.454200</td>\n",
       "    </tr>\n",
       "    <tr>\n",
       "      <th>75%</th>\n",
       "      <td>668.500000</td>\n",
       "      <td>1.000000</td>\n",
       "      <td>3.000000</td>\n",
       "      <td>38.000000</td>\n",
       "      <td>1.000000</td>\n",
       "      <td>0.000000</td>\n",
       "      <td>31.000000</td>\n",
       "    </tr>\n",
       "    <tr>\n",
       "      <th>max</th>\n",
       "      <td>891.000000</td>\n",
       "      <td>1.000000</td>\n",
       "      <td>3.000000</td>\n",
       "      <td>80.000000</td>\n",
       "      <td>8.000000</td>\n",
       "      <td>6.000000</td>\n",
       "      <td>512.329200</td>\n",
       "    </tr>\n",
       "  </tbody>\n",
       "</table>\n",
       "</div>"
      ],
      "text/plain": [
       "       PassengerId    Survived      Pclass         Age       SibSp  \\\n",
       "count   891.000000  891.000000  891.000000  714.000000  891.000000   \n",
       "mean    446.000000    0.383838    2.308642   29.699118    0.523008   \n",
       "std     257.353842    0.486592    0.836071   14.526497    1.102743   \n",
       "min       1.000000    0.000000    1.000000    0.420000    0.000000   \n",
       "25%     223.500000    0.000000    2.000000   20.125000    0.000000   \n",
       "50%     446.000000    0.000000    3.000000   28.000000    0.000000   \n",
       "75%     668.500000    1.000000    3.000000   38.000000    1.000000   \n",
       "max     891.000000    1.000000    3.000000   80.000000    8.000000   \n",
       "\n",
       "            Parch        Fare  \n",
       "count  891.000000  891.000000  \n",
       "mean     0.381594   32.204208  \n",
       "std      0.806057   49.693429  \n",
       "min      0.000000    0.000000  \n",
       "25%      0.000000    7.910400  \n",
       "50%      0.000000   14.454200  \n",
       "75%      0.000000   31.000000  \n",
       "max      6.000000  512.329200  "
      ]
     },
     "execution_count": 263,
     "metadata": {},
     "output_type": "execute_result"
    }
   ],
   "source": [
    "#show statistics for the data frame\n",
    "titanic_data.describe()"
   ]
  },
  {
   "cell_type": "code",
   "execution_count": 264,
   "metadata": {
    "scrolled": true
   },
   "outputs": [
    {
     "data": {
      "text/plain": [
       "Index(['PassengerId', 'Survived', 'Pclass', 'Name', 'Sex', 'Age', 'SibSp',\n",
       "       'Parch', 'Ticket', 'Fare', 'Cabin', 'Embarked'],\n",
       "      dtype='object')"
      ]
     },
     "execution_count": 264,
     "metadata": {},
     "output_type": "execute_result"
    }
   ],
   "source": [
    "#show a list of the column names\n",
    "titanic_data.columns"
   ]
  },
  {
   "cell_type": "code",
   "execution_count": 265,
   "metadata": {},
   "outputs": [
    {
     "name": "stdout",
     "output_type": "stream",
     "text": [
      "<class 'pandas.core.frame.DataFrame'>\n",
      "RangeIndex: 891 entries, 0 to 890\n",
      "Data columns (total 12 columns):\n",
      "PassengerId    891 non-null int64\n",
      "Survived       891 non-null int64\n",
      "Pclass         891 non-null int64\n",
      "Name           891 non-null object\n",
      "Sex            891 non-null object\n",
      "Age            714 non-null float64\n",
      "SibSp          891 non-null int64\n",
      "Parch          891 non-null int64\n",
      "Ticket         891 non-null object\n",
      "Fare           891 non-null float64\n",
      "Cabin          204 non-null object\n",
      "Embarked       889 non-null object\n",
      "dtypes: float64(2), int64(5), object(5)\n",
      "memory usage: 83.6+ KB\n"
     ]
    }
   ],
   "source": [
    "#display information about the dataframe\n",
    "titanic_data.info()"
   ]
  },
  {
   "cell_type": "markdown",
   "metadata": {},
   "source": [
    "From the above display, we see that all fields have complete information except for Age, Cabin and Embarked.\n",
    "- The age field has only 714 values out of the 891\n",
    "- Cabin has 204 entries out of 891  \n",
    "- Embarked only having 889 entries out of 891\n",
    "\n",
    "I will be looking at how to deal with these missing values later on."
   ]
  },
  {
   "cell_type": "code",
   "execution_count": 266,
   "metadata": {},
   "outputs": [
    {
     "name": "stdout",
     "output_type": "stream",
     "text": [
      "Sex Values:['male' 'female'],Survived:[0 1],Parch: [0 1 2 5 3 4 6] Pclass: [3 1 2] Embarked:['S' 'C' 'Q' nan]\n"
     ]
    }
   ],
   "source": [
    "#looking at unique values column values\n",
    "\n",
    "def unique_values(column_name):\n",
    "    '''\n",
    "    funtion takes in a column name and then returns a list of\n",
    "    unique column values\n",
    "    '''\n",
    "    unic= column_name.unique()\n",
    "    return unic \n",
    "\n",
    "#using the unique_value formula to show unique values of different columns\n",
    "Sex_Unique_values= unique_values(titanic_data['Sex'])\n",
    "Survive_Unique_values= unique_values(titanic_data['Survived'])\n",
    "Parch_Unique_values=unique_values(titanic_data['Parch'])\n",
    "Pclass_Unique_values=unique_values(titanic_data['Pclass'])\n",
    "Embarked_Unique_values=unique_values(titanic_data['Embarked'])\n",
    "\n",
    "#print out the values\n",
    "print(\"Sex Values:{},Survived:{},Parch: {} Pclass: {} Embarked:{}\".format(Sex_Unique_values,Survive_Unique_values,\n",
    "                                                                             Parch_Unique_values,Pclass_Unique_values,Embarked_Unique_values))"
   ]
  },
  {
   "cell_type": "markdown",
   "metadata": {},
   "source": [
    "Number of unique rows."
   ]
  },
  {
   "cell_type": "code",
   "execution_count": 267,
   "metadata": {},
   "outputs": [
    {
     "name": "stdout",
     "output_type": "stream",
     "text": [
      "Unique passenger Ids: 891 , Unique Ages:89 ,Unique Sibsp: 7, Unique Tickets: 681, Unique cabins: 148\n"
     ]
    }
   ],
   "source": [
    " def num_of_rows(column_name):\n",
    "    '''\n",
    "    function takes in a column name and returns the sum\n",
    "    column's unique values\n",
    "    '''\n",
    "    unic= column_name.unique()\n",
    "    return len(unic)\n",
    "\n",
    "#use function to show sum of unique values in each field\n",
    "Unique_IDs =num_of_rows(titanic_data['PassengerId'])\n",
    "Unique_Age=num_of_rows(titanic_data['Age'])\n",
    "Unique_sibsp=num_of_rows(titanic_data['SibSp'])\n",
    "Unique_Ticket=num_of_rows(titanic_data['Ticket'])\n",
    "Unique_Cabin =num_of_rows(titanic_data['Cabin'])\n",
    "Unique_Embarked=num_of_rows(titanic_data['Embarked'])\n",
    "\n",
    "#Display the sum of unique values\n",
    "\n",
    "print('Unique passenger Ids: {} , Unique Ages:{} ,Unique Sibsp: {}, Unique Tickets: {}, Unique cabins: {}'.format(Unique_IDs,Unique_Age,Unique_sibsp,\n",
    "                                                                                                   Unique_Ticket,Unique_Cabin))\n"
   ]
  },
  {
   "cell_type": "markdown",
   "metadata": {},
   "source": [
    "Since we have now looked at an over view of our data sets and discovered a few problems with the data, i will go ahead and clean the data getting ready for analysis."
   ]
  },
  {
   "cell_type": "markdown",
   "metadata": {},
   "source": [
    "## Data Wrangling- Cleaning the data\n",
    "In this section, i will be working to fill up missing data, creating any extra columns that might be relevant to the analysis, drop any columns that are not relevant and change some field data types."
   ]
  },
  {
   "cell_type": "markdown",
   "metadata": {},
   "source": [
    "#### Missing Age Values:\n",
    "From the above exploration, I discovered that age has only 714 non null values out of the expected 891.In order to fill up the missing values in the age column, i will group the data frame by Social class\n",
    "    and then by Sex, then take the mean Age from each sub-group to replace the missing values\n"
   ]
  },
  {
   "cell_type": "code",
   "execution_count": 268,
   "metadata": {},
   "outputs": [
    {
     "name": "stdout",
     "output_type": "stream",
     "text": [
      "Missing ages:177\n"
     ]
    },
    {
     "data": {
      "text/plain": [
       "Pclass  Sex   \n",
       "1       female    34.61\n",
       "        male      41.28\n",
       "2       female    28.72\n",
       "        male      30.74\n",
       "3       female    21.75\n",
       "        male      26.51\n",
       "Name: Age, dtype: float64"
      ]
     },
     "execution_count": 268,
     "metadata": {},
     "output_type": "execute_result"
    }
   ],
   "source": [
    "#missing Age Values\n",
    "Missing_Age =titanic_data[titanic_data['Age'].isnull()]\n",
    "#Number of missing age values\n",
    "l= len(Missing_Age)\n",
    "print('Missing ages:{}'.format(l))\n",
    "\n",
    "# grouping the values by class and Sex and finding the mean for each group\n",
    "MeanAges = titanic_data.groupby(['Pclass','Sex'])['Age'].mean()\n",
    "#change ages to integers\n",
    "np.round(MeanAges,2)\n"
   ]
  },
  {
   "cell_type": "markdown",
   "metadata": {},
   "source": [
    "Fill up the missing values with the calculated mean Values"
   ]
  },
  {
   "cell_type": "code",
   "execution_count": 269,
   "metadata": {},
   "outputs": [
    {
     "data": {
      "text/plain": [
       "count    891.000000\n",
       "mean      29.318643\n",
       "std       13.281103\n",
       "min        0.420000\n",
       "25%       21.750000\n",
       "50%       26.507589\n",
       "75%       36.000000\n",
       "max       80.000000\n",
       "Name: Age, dtype: float64"
      ]
     },
     "execution_count": 269,
     "metadata": {},
     "output_type": "execute_result"
    }
   ],
   "source": [
    "# replacing nulls with the calculated means\n",
    "def replace_nulls(data):\n",
    "    '''\n",
    "    The function takes in a dataFrame, if a selected value from the selected column of \n",
    "    the data frame(data) is missing, it returns a value from the MeanAges dataframe if not\n",
    "    it returns the value from the dataframe(data)\n",
    "    '''\n",
    "    if pd.isnull(data['Age']):\n",
    "        return MeanAges[data['Pclass'],data['Sex']]\n",
    "    else:\n",
    "        return data['Age']\n",
    "    \n",
    "#using the replace_nulls function to update the titanic_data \n",
    "titanic_data['Age']=titanic_data.apply(replace_nulls, axis=1)\n",
    "\n",
    "#usinge the info function to see if the age has no more missing values  \n",
    "titanic_data.Age.describe()\n"
   ]
  },
  {
   "cell_type": "markdown",
   "metadata": {
    "collapsed": true
   },
   "source": [
    "#### Missing Cabin Values:\n",
    "In our earlier investigation we discovered that there were only 204 pasengers with cabins out of the 891, this number is so small compared to the sample, so instead of trying to fill up the missing values i decided that it might be more logical to eliminate the field from the dataset."
   ]
  },
  {
   "cell_type": "markdown",
   "metadata": {},
   "source": [
    "#### Missing Embarked Values:\n",
    "To deal with these missing values I will look at the people with the missing  values and compare them to people in the datasets  with similar traits like cabin, ticket numbers and fare. "
   ]
  },
  {
   "cell_type": "code",
   "execution_count": 270,
   "metadata": {},
   "outputs": [
    {
     "data": {
      "text/html": [
       "<div>\n",
       "<style>\n",
       "    .dataframe thead tr:only-child th {\n",
       "        text-align: right;\n",
       "    }\n",
       "\n",
       "    .dataframe thead th {\n",
       "        text-align: left;\n",
       "    }\n",
       "\n",
       "    .dataframe tbody tr th {\n",
       "        vertical-align: top;\n",
       "    }\n",
       "</style>\n",
       "<table border=\"1\" class=\"dataframe\">\n",
       "  <thead>\n",
       "    <tr style=\"text-align: right;\">\n",
       "      <th></th>\n",
       "      <th>PassengerId</th>\n",
       "      <th>Survived</th>\n",
       "      <th>Pclass</th>\n",
       "      <th>Name</th>\n",
       "      <th>Sex</th>\n",
       "      <th>Age</th>\n",
       "      <th>SibSp</th>\n",
       "      <th>Parch</th>\n",
       "      <th>Ticket</th>\n",
       "      <th>Fare</th>\n",
       "      <th>Cabin</th>\n",
       "      <th>Embarked</th>\n",
       "    </tr>\n",
       "  </thead>\n",
       "  <tbody>\n",
       "    <tr>\n",
       "      <th>61</th>\n",
       "      <td>62</td>\n",
       "      <td>1</td>\n",
       "      <td>1</td>\n",
       "      <td>Icard, Miss. Amelie</td>\n",
       "      <td>female</td>\n",
       "      <td>38.0</td>\n",
       "      <td>0</td>\n",
       "      <td>0</td>\n",
       "      <td>113572</td>\n",
       "      <td>80.0</td>\n",
       "      <td>B28</td>\n",
       "      <td>NaN</td>\n",
       "    </tr>\n",
       "    <tr>\n",
       "      <th>829</th>\n",
       "      <td>830</td>\n",
       "      <td>1</td>\n",
       "      <td>1</td>\n",
       "      <td>Stone, Mrs. George Nelson (Martha Evelyn)</td>\n",
       "      <td>female</td>\n",
       "      <td>62.0</td>\n",
       "      <td>0</td>\n",
       "      <td>0</td>\n",
       "      <td>113572</td>\n",
       "      <td>80.0</td>\n",
       "      <td>B28</td>\n",
       "      <td>NaN</td>\n",
       "    </tr>\n",
       "  </tbody>\n",
       "</table>\n",
       "</div>"
      ],
      "text/plain": [
       "     PassengerId  Survived  Pclass                                       Name  \\\n",
       "61            62         1       1                        Icard, Miss. Amelie   \n",
       "829          830         1       1  Stone, Mrs. George Nelson (Martha Evelyn)   \n",
       "\n",
       "        Sex   Age  SibSp  Parch  Ticket  Fare Cabin Embarked  \n",
       "61   female  38.0      0      0  113572  80.0   B28      NaN  \n",
       "829  female  62.0      0      0  113572  80.0   B28      NaN  "
      ]
     },
     "execution_count": 270,
     "metadata": {},
     "output_type": "execute_result"
    }
   ],
   "source": [
    "#missing Embarked \n",
    "Embarked_Missing= titanic_data[titanic_data['Embarked'].isnull()]\n",
    "Embarked_Missing"
   ]
  },
  {
   "cell_type": "markdown",
   "metadata": {
    "collapsed": true
   },
   "source": [
    "From the above we can see that both these people were from cabin B28 with same ticket number 113572 and fare of 80 each.So am going to create a list of people with any of the mentioned field values."
   ]
  },
  {
   "cell_type": "code",
   "execution_count": 271,
   "metadata": {},
   "outputs": [
    {
     "data": {
      "text/html": [
       "<div>\n",
       "<style>\n",
       "    .dataframe thead tr:only-child th {\n",
       "        text-align: right;\n",
       "    }\n",
       "\n",
       "    .dataframe thead th {\n",
       "        text-align: left;\n",
       "    }\n",
       "\n",
       "    .dataframe tbody tr th {\n",
       "        vertical-align: top;\n",
       "    }\n",
       "</style>\n",
       "<table border=\"1\" class=\"dataframe\">\n",
       "  <thead>\n",
       "    <tr style=\"text-align: right;\">\n",
       "      <th></th>\n",
       "      <th>PassengerId</th>\n",
       "      <th>Survived</th>\n",
       "      <th>Pclass</th>\n",
       "      <th>Name</th>\n",
       "      <th>Sex</th>\n",
       "      <th>Age</th>\n",
       "      <th>SibSp</th>\n",
       "      <th>Parch</th>\n",
       "      <th>Ticket</th>\n",
       "      <th>Fare</th>\n",
       "      <th>Cabin</th>\n",
       "      <th>Embarked</th>\n",
       "    </tr>\n",
       "  </thead>\n",
       "  <tbody>\n",
       "    <tr>\n",
       "      <th>61</th>\n",
       "      <td>62</td>\n",
       "      <td>1</td>\n",
       "      <td>1</td>\n",
       "      <td>Icard, Miss. Amelie</td>\n",
       "      <td>female</td>\n",
       "      <td>38.0</td>\n",
       "      <td>0</td>\n",
       "      <td>0</td>\n",
       "      <td>113572</td>\n",
       "      <td>80.0</td>\n",
       "      <td>B28</td>\n",
       "      <td>NaN</td>\n",
       "    </tr>\n",
       "    <tr>\n",
       "      <th>829</th>\n",
       "      <td>830</td>\n",
       "      <td>1</td>\n",
       "      <td>1</td>\n",
       "      <td>Stone, Mrs. George Nelson (Martha Evelyn)</td>\n",
       "      <td>female</td>\n",
       "      <td>62.0</td>\n",
       "      <td>0</td>\n",
       "      <td>0</td>\n",
       "      <td>113572</td>\n",
       "      <td>80.0</td>\n",
       "      <td>B28</td>\n",
       "      <td>NaN</td>\n",
       "    </tr>\n",
       "  </tbody>\n",
       "</table>\n",
       "</div>"
      ],
      "text/plain": [
       "     PassengerId  Survived  Pclass                                       Name  \\\n",
       "61            62         1       1                        Icard, Miss. Amelie   \n",
       "829          830         1       1  Stone, Mrs. George Nelson (Martha Evelyn)   \n",
       "\n",
       "        Sex   Age  SibSp  Parch  Ticket  Fare Cabin Embarked  \n",
       "61   female  38.0      0      0  113572  80.0   B28      NaN  \n",
       "829  female  62.0      0      0  113572  80.0   B28      NaN  "
      ]
     },
     "execution_count": 271,
     "metadata": {},
     "output_type": "execute_result"
    }
   ],
   "source": [
    "#looking at people with similar records(cabin,Ticket,Fare)\n",
    "Similar = titanic_data[(titanic_data['Cabin']== 'B28')|(titanic_data['Fare']== 80)|(titanic_data['Ticket']==113572)]\n",
    "Similar"
   ]
  },
  {
   "cell_type": "markdown",
   "metadata": {},
   "source": [
    "Ooops looks like these two ladies are very unique. They dont share charactristics with anyother people on the ship. I will have to look at the distribution of disembarked cities. Then decide which one to give them."
   ]
  },
  {
   "cell_type": "code",
   "execution_count": 272,
   "metadata": {},
   "outputs": [
    {
     "name": "stdout",
     "output_type": "stream",
     "text": [
      "Q:77,C:168 ,S: 644\n"
     ]
    }
   ],
   "source": [
    "S=len(titanic_data[titanic_data['Embarked']=='S'])\n",
    "C=len(titanic_data[titanic_data['Embarked']=='C'])\n",
    "Q=len(titanic_data[titanic_data['Embarked']=='Q'])\n",
    "print(\"Q:{},C:{} ,S: {}\".format(Q,C,S))"
   ]
  },
  {
   "cell_type": "code",
   "execution_count": 273,
   "metadata": {},
   "outputs": [
    {
     "data": {
      "text/plain": [
       "<seaborn.axisgrid.FacetGrid at 0x1cfbb5aa7f0>"
      ]
     },
     "execution_count": 273,
     "metadata": {},
     "output_type": "execute_result"
    },
    {
     "data": {
      "image/png": "[encoded data removed]",
      "text/plain": [
       "<matplotlib.figure.Figure at 0x1cfbb5aaba8>"
      ]
     },
     "metadata": {},
     "output_type": "display_data"
    }
   ],
   "source": [
    " sb.factorplot('Embarked', order=['S','C','Q'], data= titanic_data, kind='count') "
   ]
  },
  {
   "cell_type": "raw",
   "metadata": {},
   "source": [
    "Since most people were in the \"S\" group, ive decided to give these two people the same port."
   ]
  },
  {
   "cell_type": "code",
   "execution_count": 274,
   "metadata": {},
   "outputs": [
    {
     "data": {
      "text/html": [
       "<div>\n",
       "<style>\n",
       "    .dataframe thead tr:only-child th {\n",
       "        text-align: right;\n",
       "    }\n",
       "\n",
       "    .dataframe thead th {\n",
       "        text-align: left;\n",
       "    }\n",
       "\n",
       "    .dataframe tbody tr th {\n",
       "        vertical-align: top;\n",
       "    }\n",
       "</style>\n",
       "<table border=\"1\" class=\"dataframe\">\n",
       "  <thead>\n",
       "    <tr style=\"text-align: right;\">\n",
       "      <th></th>\n",
       "      <th>PassengerId</th>\n",
       "      <th>Survived</th>\n",
       "      <th>Pclass</th>\n",
       "      <th>Name</th>\n",
       "      <th>Sex</th>\n",
       "      <th>Age</th>\n",
       "      <th>SibSp</th>\n",
       "      <th>Parch</th>\n",
       "      <th>Ticket</th>\n",
       "      <th>Fare</th>\n",
       "      <th>Cabin</th>\n",
       "      <th>Embarked</th>\n",
       "    </tr>\n",
       "  </thead>\n",
       "  <tbody>\n",
       "    <tr>\n",
       "      <th>61</th>\n",
       "      <td>62</td>\n",
       "      <td>1</td>\n",
       "      <td>1</td>\n",
       "      <td>Icard, Miss. Amelie</td>\n",
       "      <td>female</td>\n",
       "      <td>38.0</td>\n",
       "      <td>0</td>\n",
       "      <td>0</td>\n",
       "      <td>113572</td>\n",
       "      <td>80.0</td>\n",
       "      <td>B28</td>\n",
       "      <td>S</td>\n",
       "    </tr>\n",
       "    <tr>\n",
       "      <th>829</th>\n",
       "      <td>830</td>\n",
       "      <td>1</td>\n",
       "      <td>1</td>\n",
       "      <td>Stone, Mrs. George Nelson (Martha Evelyn)</td>\n",
       "      <td>female</td>\n",
       "      <td>62.0</td>\n",
       "      <td>0</td>\n",
       "      <td>0</td>\n",
       "      <td>113572</td>\n",
       "      <td>80.0</td>\n",
       "      <td>B28</td>\n",
       "      <td>S</td>\n",
       "    </tr>\n",
       "  </tbody>\n",
       "</table>\n",
       "</div>"
      ],
      "text/plain": [
       "     PassengerId  Survived  Pclass                                       Name  \\\n",
       "61            62         1       1                        Icard, Miss. Amelie   \n",
       "829          830         1       1  Stone, Mrs. George Nelson (Martha Evelyn)   \n",
       "\n",
       "        Sex   Age  SibSp  Parch  Ticket  Fare Cabin Embarked  \n",
       "61   female  38.0      0      0  113572  80.0   B28        S  \n",
       "829  female  62.0      0      0  113572  80.0   B28        S  "
      ]
     },
     "execution_count": 274,
     "metadata": {},
     "output_type": "execute_result"
    }
   ],
   "source": [
    "# replacing missing values with 'S'\n",
    "titanic_data['Embarked'].fillna('S', inplace=True)\n",
    "#checking to see if our values have been filled in correctly\n",
    "titanic_data[(titanic_data['Cabin']=='B28')]"
   ]
  },
  {
   "cell_type": "markdown",
   "metadata": {},
   "source": [
    "### Changing Some Of the Field Value discriptions:\n",
    "To better undestand the data, I will modify some of the fields\n",
    "1. Age => int data type\n",
    "+ Survived =>  boolean (1 = True, 0 = False)\n",
    "* Pclass => Social classes (1= First Class, 2 =Second Class, 3= Third Class)\n",
    "\n",
    "I will also group the Age into Age groups to better analyse ages, I will also what to look at how the presence of other family members contributed to survival so i will join the parents and siblings table to form a new field called relatives."
   ]
  },
  {
   "cell_type": "code",
   "execution_count": 275,
   "metadata": {},
   "outputs": [
    {
     "data": {
      "text/html": [
       "<div>\n",
       "<style>\n",
       "    .dataframe thead tr:only-child th {\n",
       "        text-align: right;\n",
       "    }\n",
       "\n",
       "    .dataframe thead th {\n",
       "        text-align: left;\n",
       "    }\n",
       "\n",
       "    .dataframe tbody tr th {\n",
       "        vertical-align: top;\n",
       "    }\n",
       "</style>\n",
       "<table border=\"1\" class=\"dataframe\">\n",
       "  <thead>\n",
       "    <tr style=\"text-align: right;\">\n",
       "      <th></th>\n",
       "      <th>PassengerId</th>\n",
       "      <th>Survived</th>\n",
       "      <th>Pclass</th>\n",
       "      <th>Name</th>\n",
       "      <th>Sex</th>\n",
       "      <th>Age</th>\n",
       "      <th>SibSp</th>\n",
       "      <th>Parch</th>\n",
       "      <th>Ticket</th>\n",
       "      <th>Fare</th>\n",
       "      <th>Cabin</th>\n",
       "      <th>Embarked</th>\n",
       "      <th>age_group</th>\n",
       "    </tr>\n",
       "  </thead>\n",
       "  <tbody>\n",
       "    <tr>\n",
       "      <th>0</th>\n",
       "      <td>1</td>\n",
       "      <td>False</td>\n",
       "      <td>Third Class</td>\n",
       "      <td>Braund, Mr. Owen Harris</td>\n",
       "      <td>male</td>\n",
       "      <td>22</td>\n",
       "      <td>1</td>\n",
       "      <td>0</td>\n",
       "      <td>A/5 21171</td>\n",
       "      <td>7.2500</td>\n",
       "      <td>NaN</td>\n",
       "      <td>S</td>\n",
       "      <td>20-29</td>\n",
       "    </tr>\n",
       "    <tr>\n",
       "      <th>1</th>\n",
       "      <td>2</td>\n",
       "      <td>True</td>\n",
       "      <td>First Class</td>\n",
       "      <td>Cumings, Mrs. John Bradley (Florence Briggs Th...</td>\n",
       "      <td>female</td>\n",
       "      <td>38</td>\n",
       "      <td>1</td>\n",
       "      <td>0</td>\n",
       "      <td>PC 17599</td>\n",
       "      <td>71.2833</td>\n",
       "      <td>C85</td>\n",
       "      <td>C</td>\n",
       "      <td>30-39</td>\n",
       "    </tr>\n",
       "    <tr>\n",
       "      <th>2</th>\n",
       "      <td>3</td>\n",
       "      <td>True</td>\n",
       "      <td>Third Class</td>\n",
       "      <td>Heikkinen, Miss. Laina</td>\n",
       "      <td>female</td>\n",
       "      <td>26</td>\n",
       "      <td>0</td>\n",
       "      <td>0</td>\n",
       "      <td>STON/O2. 3101282</td>\n",
       "      <td>7.9250</td>\n",
       "      <td>NaN</td>\n",
       "      <td>S</td>\n",
       "      <td>20-29</td>\n",
       "    </tr>\n",
       "  </tbody>\n",
       "</table>\n",
       "</div>"
      ],
      "text/plain": [
       "   PassengerId  Survived       Pclass  \\\n",
       "0            1     False  Third Class   \n",
       "1            2      True  First Class   \n",
       "2            3      True  Third Class   \n",
       "\n",
       "                                                Name     Sex  Age  SibSp  \\\n",
       "0                            Braund, Mr. Owen Harris    male   22      1   \n",
       "1  Cumings, Mrs. John Bradley (Florence Briggs Th...  female   38      1   \n",
       "2                             Heikkinen, Miss. Laina  female   26      0   \n",
       "\n",
       "   Parch            Ticket     Fare Cabin Embarked age_group  \n",
       "0      0         A/5 21171   7.2500   NaN        S     20-29  \n",
       "1      0          PC 17599  71.2833   C85        C     30-39  \n",
       "2      0  STON/O2. 3101282   7.9250   NaN        S     20-29  "
      ]
     },
     "execution_count": 275,
     "metadata": {},
     "output_type": "execute_result"
    }
   ],
   "source": [
    "def Up_date_data(data):\n",
    "    '''\n",
    "    function takes in the original dataframe and returns\n",
    "    the updated dataframe\n",
    "    '''\n",
    "    #change the age from Float to int\n",
    "    data.Age =data.Age.astype(int)\n",
    "    #Change Pclass\n",
    "    new_Class={1:'First Class',2:'Sec Class', 3:'Third Class'}\n",
    "    data.Pclass =data.Pclass.map(new_Class)\n",
    "    #Change Survived value discriptions\n",
    "    new_survived = {0: False, 1: True}\n",
    "    data.Survived = data.Survived.map(new_survived)\n",
    "    #create new field Family to hold values of siblings and parents\n",
    "    data.Family= data.Parch + data.SibSp\n",
    "    #create the Age_group column\n",
    "    age_bins = ['0-9', '10-19', '20-29', '30-39', '40-49', '50-59', '60-69', '70-79']\n",
    "    data['age_group'] = pd.cut(data.Age, range(0, 81, 10), right=False, labels=age_bins)\n",
    "    return data\n",
    "Updated_titanic_data =Up_date_data(titanic_data)\n",
    "#display the first three rows\n",
    "Updated_titanic_data.head(3)"
   ]
  },
  {
   "cell_type": "code",
   "execution_count": 276,
   "metadata": {
    "collapsed": true
   },
   "outputs": [],
   "source": [
    "#Updated_df.Fam_Presence\n",
    "Updated_titanic_data['Family'] = Updated_titanic_data.SibSp + Updated_titanic_data.Parch\n"
   ]
  },
  {
   "cell_type": "markdown",
   "metadata": {
    "collapsed": true
   },
   "source": [
    "### Droping Un Wanted Fields\n",
    "I am going to put my empasis on Sex, Age groups, Pessenger Class, and \n",
    "Survival. Some of the columns may\n",
    "not do me any good so I will go ahead and drop them."
   ]
  },
  {
   "cell_type": "code",
   "execution_count": 277,
   "metadata": {},
   "outputs": [
    {
     "name": "stdout",
     "output_type": "stream",
     "text": [
      "<class 'pandas.core.frame.DataFrame'>\n",
      "RangeIndex: 891 entries, 0 to 890\n",
      "Data columns (total 9 columns):\n",
      "PassengerId    891 non-null int64\n",
      "Survived       891 non-null bool\n",
      "Pclass         891 non-null object\n",
      "Sex            891 non-null object\n",
      "Age            891 non-null int32\n",
      "Fare           891 non-null float64\n",
      "Embarked       891 non-null object\n",
      "age_group      890 non-null category\n",
      "Family         891 non-null int64\n",
      "dtypes: bool(1), category(1), float64(1), int32(1), int64(2), object(3)\n",
      "memory usage: 47.4+ KB\n"
     ]
    }
   ],
   "source": [
    "#dropping a few fields from the dataframe\n",
    "Updated_df =Updated_titanic_data.drop(['Ticket','Name','Cabin','SibSp','Parch'], axis=1)\n",
    "#display discriptions of the remaining fields\n",
    "Updated_df.info()"
   ]
  },
  {
   "cell_type": "code",
   "execution_count": 278,
   "metadata": {
    "collapsed": true
   },
   "outputs": [],
   "source": [
    "#Family Presence\n",
    "# Updated_df.Family = {0: 'Family', 1: 'Family'}"
   ]
  },
  {
   "cell_type": "code",
   "execution_count": null,
   "metadata": {
    "collapsed": true
   },
   "outputs": [],
   "source": []
  },
  {
   "cell_type": "markdown",
   "metadata": {},
   "source": [
    "## Exploring further and Drawing Conclusions"
   ]
  },
  {
   "cell_type": "markdown",
   "metadata": {},
   "source": [
    "## Distribution Of Data\n",
    "In this section i will be looking at how our data is distributed, with emphasis on one four valuables, sex, survived, Age_group and Pcalss plus i will also look at the sibsp and parch together as a whole(family) to see if there is a relationship between family presence and survival"
   ]
  },
  {
   "cell_type": "markdown",
   "metadata": {},
   "source": [
    "### How Many people survived?"
   ]
  },
  {
   "cell_type": "code",
   "execution_count": 279,
   "metadata": {},
   "outputs": [
    {
     "data": {
      "text/plain": [
       "Survived\n",
       "False    549\n",
       "True     342\n",
       "dtype: int64"
      ]
     },
     "execution_count": 279,
     "metadata": {},
     "output_type": "execute_result"
    }
   ],
   "source": [
    "#calculate survival distribution\n",
    "Updated_df.groupby('Survived').size()"
   ]
  },
  {
   "cell_type": "code",
   "execution_count": 280,
   "metadata": {},
   "outputs": [
    {
     "name": "stdout",
     "output_type": "stream",
     "text": [
      "Survived:38.0 %, Died:62.0 %\n"
     ]
    }
   ],
   "source": [
    "#Nmber of people that survived vs Non Survivors\n",
    "survivors= Updated_df[(Updated_df['Survived'] == True)]\n",
    "non_survivors =Updated_df[(Updated_df.Survived == False)]\n",
    "\n",
    "#percentage of survivors and Non Survivors\n",
    "Surv_propotion =np.round((len(survivors)/len(Updated_df))*100)\n",
    "non_Sur_Proportion =np.round((len(non_survivors)/len(Updated_df))*100)\n",
    "\n",
    "#Display percentages \n",
    "print(\"Survived:{} %, Died:{} %\".format(Surv_propotion,non_Sur_Proportion))\n"
   ]
  },
  {
   "cell_type": "code",
   "execution_count": 281,
   "metadata": {},
   "outputs": [
    {
     "data": {
      "text/plain": [
       "<matplotlib.text.Text at 0x1cfbb637940>"
      ]
     },
     "execution_count": 281,
     "metadata": {},
     "output_type": "execute_result"
    },
    {
     "data": {
      "image/png": "[encoded data removed]",
      "text/plain": [
       "<matplotlib.figure.Figure at 0x1cfbb617080>"
      ]
     },
     "metadata": {},
     "output_type": "display_data"
    }
   ],
   "source": [
    "#plot a graph showing survival distribution\n",
    "Updated_df.groupby('Survived').size().plot(kind='bar', stacked = False)\n",
    "plt.title(\"Bar graph showing Survival distributions\", fontsize =16)\n",
    "plt.xlabel(\"Survival Status\", fontsize =14)\n",
    "plt.ylabel(\"Sum\", fontsize=14)"
   ]
  },
  {
   "cell_type": "markdown",
   "metadata": {},
   "source": [
    "From the above we can see that there are more people that died than those that survived."
   ]
  },
  {
   "cell_type": "markdown",
   "metadata": {},
   "source": [
    "#### Survival By Gender`\n",
    "looking at the number of male vs women aboard and how many of the survivors were male vs women"
   ]
  },
  {
   "cell_type": "code",
   "execution_count": 282,
   "metadata": {},
   "outputs": [
    {
     "data": {
      "text/plain": [
       "Sex\n",
       "female    314\n",
       "male      577\n",
       "Name: Name, dtype: int64"
      ]
     },
     "execution_count": 282,
     "metadata": {},
     "output_type": "execute_result"
    }
   ],
   "source": [
    "#group the data by sex\n",
    "titanic_data.groupby(\"Sex\")['Name'].count()"
   ]
  },
  {
   "cell_type": "code",
   "execution_count": 283,
   "metadata": {},
   "outputs": [
    {
     "name": "stdout",
     "output_type": "stream",
     "text": [
      "Number of Women: 314, Number of Men: 577\n"
     ]
    }
   ],
   "source": [
    "#subset tatanic data into two dataframes \n",
    "women_df =Updated_df[(titanic_data['Sex']=='female')]\n",
    "male_df = Updated_df[(titanic_data['Sex']=='male')]\n",
    "w=len(women_df)\n",
    "m=len(male_df)\n",
    "print('Number of Women: {}, Number of Men: {}'.format(w,m))"
   ]
  },
  {
   "cell_type": "code",
   "execution_count": 284,
   "metadata": {},
   "outputs": [
    {
     "data": {
      "text/plain": [
       "<seaborn.axisgrid.FacetGrid at 0x1cfbb531b38>"
      ]
     },
     "execution_count": 284,
     "metadata": {},
     "output_type": "execute_result"
    },
    {
     "data": {
      "image/png": "[encoded data removed]",
      "text/plain": [
       "<matplotlib.figure.Figure at 0x1cfbb578d30>"
      ]
     },
     "metadata": {},
     "output_type": "display_data"
    }
   ],
   "source": [
    "#Number of passengers on titanic in each gender group\n",
    "sb.factorplot('Sex', data=titanic_data, kind ='count')"
   ]
  },
  {
   "cell_type": "markdown",
   "metadata": {},
   "source": [
    "From the above we see that the number of males aboard was much greater than the number of women\n",
    "* lets look at how many of each gender survived"
   ]
  },
  {
   "cell_type": "code",
   "execution_count": 285,
   "metadata": {},
   "outputs": [
    {
     "data": {
      "text/plain": [
       "Sex\n",
       "female    233\n",
       "male      109\n",
       "dtype: int64"
      ]
     },
     "execution_count": 285,
     "metadata": {},
     "output_type": "execute_result"
    }
   ],
   "source": [
    "survivors.groupby('Sex').size()"
   ]
  },
  {
   "cell_type": "code",
   "execution_count": 286,
   "metadata": {},
   "outputs": [
    {
     "data": {
      "text/plain": [
       "<matplotlib.text.Text at 0x1cfbb6f2668>"
      ]
     },
     "execution_count": 286,
     "metadata": {},
     "output_type": "execute_result"
    },
    {
     "data": {
      "image/png": "[encoded data removed]",
      "text/plain": [
       "<matplotlib.figure.Figure at 0x1cfbb5c6518>"
      ]
     },
     "metadata": {},
     "output_type": "display_data"
    }
   ],
   "source": [
    "#Number of survivors by gender\n",
    "P =sb.factorplot('Sex', data=survivors, kind ='count', label=\"Number Of Survivors\")\n",
    "plt.subplots_adjust(top=0.8)\n",
    "P.fig.suptitle('Plot Showing Number of Survivors by gender', fontsize =16)"
   ]
  },
  {
   "cell_type": "code",
   "execution_count": 287,
   "metadata": {},
   "outputs": [
    {
     "data": {
      "text/plain": [
       "<matplotlib.text.Text at 0x1cfbb78b470>"
      ]
     },
     "execution_count": 287,
     "metadata": {},
     "output_type": "execute_result"
    },
    {
     "data": {
      "image/png": "[encoded data removed]",
      "text/plain": [
       "<matplotlib.figure.Figure at 0x1cfbb786c88>"
      ]
     },
     "metadata": {},
     "output_type": "display_data"
    }
   ],
   "source": [
    "p=sb.factorplot('Survived', data=Updated_df, kind ='count', hue =\"Sex\", )\n",
    "plt.subplots_adjust(top= 0.8)\n",
    "p.fig.suptitle(\"Distribution of survived by Sex\", fontsize =16)"
   ]
  },
  {
   "cell_type": "markdown",
   "metadata": {},
   "source": [
    "From the above two plots we are able to see that,though the number of males aboard was way greater than women , the number of survivors who are female more than doubles that of the male. I will further investigate the data set to find out what classes the survivors belonged to."
   ]
  },
  {
   "cell_type": "markdown",
   "metadata": {},
   "source": [
    "### Adding passenger Class"
   ]
  },
  {
   "cell_type": "markdown",
   "metadata": {},
   "source": [
    "#### Distribution of Pclass\n",
    "* Number of passengers per class"
   ]
  },
  {
   "cell_type": "code",
   "execution_count": 288,
   "metadata": {},
   "outputs": [
    {
     "data": {
      "text/plain": [
       "Pclass\n",
       "First Class    216\n",
       "Sec Class      184\n",
       "Third Class    491\n",
       "dtype: int64"
      ]
     },
     "execution_count": 288,
     "metadata": {},
     "output_type": "execute_result"
    }
   ],
   "source": [
    "Updated_df.groupby('Pclass').size()"
   ]
  },
  {
   "cell_type": "code",
   "execution_count": 289,
   "metadata": {},
   "outputs": [
    {
     "data": {
      "text/plain": [
       "<seaborn.axisgrid.FacetGrid at 0x1cfbb6d5860>"
      ]
     },
     "execution_count": 289,
     "metadata": {},
     "output_type": "execute_result"
    },
    {
     "data": {
      "image/png": "[encoded data removed]",
      "text/plain": [
       "<matplotlib.figure.Figure at 0x1cfbb6c8748>"
      ]
     },
     "metadata": {},
     "output_type": "display_data"
    }
   ],
   "source": [
    "#distribution of passengers by class \n",
    "sb.factorplot('Pclass', data=Updated_df, kind ='count', order =['First Class', 'Sec Class', 'Third Class'])"
   ]
  },
  {
   "cell_type": "markdown",
   "metadata": {},
   "source": [
    "From the above visualization we see that most people were in the third class followed by first class and the least number of people was in the second class. Now that we have looked at the number of passengers per class lets look at the number of survivors in each class"
   ]
  },
  {
   "cell_type": "code",
   "execution_count": 290,
   "metadata": {},
   "outputs": [
    {
     "data": {
      "text/plain": [
       "Pclass\n",
       "First Class    136\n",
       "Sec Class       87\n",
       "Third Class    119\n",
       "dtype: int64"
      ]
     },
     "execution_count": 290,
     "metadata": {},
     "output_type": "execute_result"
    }
   ],
   "source": [
    "survivors.groupby('Pclass').size()"
   ]
  },
  {
   "cell_type": "code",
   "execution_count": 291,
   "metadata": {},
   "outputs": [
    {
     "data": {
      "text/plain": [
       "<seaborn.axisgrid.FacetGrid at 0x1cfbc8922e8>"
      ]
     },
     "execution_count": 291,
     "metadata": {},
     "output_type": "execute_result"
    },
    {
     "data": {
      "image/png": "[encoded data removed]",
      "text/plain": [
       "<matplotlib.figure.Figure at 0x1cfbb77fbe0>"
      ]
     },
     "metadata": {},
     "output_type": "display_data"
    }
   ],
   "source": [
    "#survivors in each class\n",
    "sb.factorplot(\"Pclass\", data =survivors, kind='count', order =['First Class', 'Sec Class', 'Third Class'])"
   ]
  },
  {
   "cell_type": "markdown",
   "metadata": {},
   "source": [
    "From above we can see that there were more survivors in second class than third class, which is surpprising bse its more logical that sec class would survive more than third. This could be as a result of the presence of more people in third class than the second class, we are better of looking at the proportions to better make a good prediction. I will handle that later but first\n",
    "* Lets look at number of survivors for each class with in gender"
   ]
  },
  {
   "cell_type": "code",
   "execution_count": 292,
   "metadata": {},
   "outputs": [
    {
     "data": {
      "text/plain": [
       "<seaborn.axisgrid.FacetGrid at 0x1cfbc93cd68>"
      ]
     },
     "execution_count": 292,
     "metadata": {},
     "output_type": "execute_result"
    },
    {
     "data": {
      "image/png": "[encoded data removed]",
      "text/plain": [
       "<matplotlib.figure.Figure at 0x1cfbc9826d8>"
      ]
     },
     "metadata": {},
     "output_type": "display_data"
    }
   ],
   "source": [
    "#survivors in each class within gender groups\n",
    "sb.factorplot('Sex', data = survivors, hue = 'Pclass', kind='count', \n",
    "              hue_order=['First Class','Sec Class','Third Class'], size =4 , aspect =1.8)"
   ]
  },
  {
   "cell_type": "markdown",
   "metadata": {},
   "source": [
    "From the above visualisation, we can see  that even with in the gender groups the number of survivors for the third class still beat those of the second class, and among the males, the third class also beats the first class. This is very surprising so i will have to look at their proportions to make better conclusions."
   ]
  },
  {
   "cell_type": "code",
   "execution_count": 293,
   "metadata": {},
   "outputs": [
    {
     "data": {
      "text/plain": [
       "<seaborn.axisgrid.FacetGrid at 0x1cfbca4a4a8>"
      ]
     },
     "execution_count": 293,
     "metadata": {},
     "output_type": "execute_result"
    },
    {
     "data": {
      "image/png": "[encoded data removed]",
      "text/plain": [
       "<matplotlib.figure.Figure at 0x1cfbc99a7f0>"
      ]
     },
     "metadata": {},
     "output_type": "display_data"
    }
   ],
   "source": [
    "#survivors in each class by gender\n",
    "sb.factorplot('Pclass', data=survivors, kind ='count', hue =\"Sex\", \n",
    "              order =['First Class', 'Sec Class', 'Third Class'] ) "
   ]
  },
  {
   "cell_type": "markdown",
   "metadata": {},
   "source": [
    "### Distibution of Survivors by Gender and PClass"
   ]
  },
  {
   "cell_type": "code",
   "execution_count": 294,
   "metadata": {},
   "outputs": [
    {
     "data": {
      "text/plain": [
       "<seaborn.axisgrid.FacetGrid at 0x1cfbb597d30>"
      ]
     },
     "execution_count": 294,
     "metadata": {},
     "output_type": "execute_result"
    },
    {
     "data": {
      "image/png": "[encoded data removed]",
      "text/plain": [
       "<matplotlib.figure.Figure at 0x1cfbcac4860>"
      ]
     },
     "metadata": {},
     "output_type": "display_data"
    }
   ],
   "source": [
    "#Distribution of population by gender with in each passenger Pclass\n",
    "sb.factorplot('Survived', data=Updated_df, kind ='count', hue =\"Sex\", col=\"Pclass\", \n",
    "              col_order=['First Class','Sec Class','Third Class'])"
   ]
  },
  {
   "cell_type": "markdown",
   "metadata": {},
   "source": [
    "From the above exploration something very significant shows up, a closer look at the plots shows that the number of women who died in first and second class was very small, almost un existance in first class, and really low in sec class."
   ]
  },
  {
   "cell_type": "markdown",
   "metadata": {},
   "source": [
    "## Exploring Chacteristics of survivors"
   ]
  },
  {
   "cell_type": "markdown",
   "metadata": {},
   "source": [
    "### Which gender had a higher chance of survival?\n",
    "#### Hypothesis\n",
    "\n",
    "Gender has no impact on the chances of surviving\n",
    "* H0 = Gender has no impact on survival\n",
    "* HA = gender has an impact on survival"
   ]
  },
  {
   "cell_type": "markdown",
   "metadata": {},
   "source": [
    "In this section , I will be looking to find out whether there is a relationship between someone's sex and survival"
   ]
  },
  {
   "cell_type": "markdown",
   "metadata": {},
   "source": [
    "Table of Survivors by Gender"
   ]
  },
  {
   "cell_type": "code",
   "execution_count": 295,
   "metadata": {},
   "outputs": [
    {
     "data": {
      "text/html": [
       "<div>\n",
       "<style>\n",
       "    .dataframe thead tr:only-child th {\n",
       "        text-align: right;\n",
       "    }\n",
       "\n",
       "    .dataframe thead th {\n",
       "        text-align: left;\n",
       "    }\n",
       "\n",
       "    .dataframe tbody tr th {\n",
       "        vertical-align: top;\n",
       "    }\n",
       "</style>\n",
       "<table border=\"1\" class=\"dataframe\">\n",
       "  <thead>\n",
       "    <tr style=\"text-align: right;\">\n",
       "      <th>Sex</th>\n",
       "      <th>female</th>\n",
       "      <th>male</th>\n",
       "    </tr>\n",
       "    <tr>\n",
       "      <th>Survived</th>\n",
       "      <th></th>\n",
       "      <th></th>\n",
       "    </tr>\n",
       "  </thead>\n",
       "  <tbody>\n",
       "    <tr>\n",
       "      <th>False</th>\n",
       "      <td>81</td>\n",
       "      <td>468</td>\n",
       "    </tr>\n",
       "    <tr>\n",
       "      <th>True</th>\n",
       "      <td>233</td>\n",
       "      <td>109</td>\n",
       "    </tr>\n",
       "  </tbody>\n",
       "</table>\n",
       "</div>"
      ],
      "text/plain": [
       "Sex       female  male\n",
       "Survived              \n",
       "False         81   468\n",
       "True         233   109"
      ]
     },
     "execution_count": 295,
     "metadata": {},
     "output_type": "execute_result"
    }
   ],
   "source": [
    "#table of survivors by gender\n",
    "Gender_Table = pd.crosstab(Updated_df['Survived'], Updated_df['Sex'])\n",
    "Gender_Table"
   ]
  },
  {
   "cell_type": "markdown",
   "metadata": {},
   "source": [
    "Proportions of survivors by Gender"
   ]
  },
  {
   "cell_type": "code",
   "execution_count": 296,
   "metadata": {},
   "outputs": [
    {
     "name": "stdout",
     "output_type": "stream",
     "text": [
      "32.0 % of survivors were male, 68.0 % were Women\n",
      "19.0 % of all men Survived and 74.0 % of all women survived\n"
     ]
    }
   ],
   "source": [
    "Male_survivors =survivors[(survivors.Sex == 'male')]\n",
    "Female_survivors= survivors[(survivors.Sex == 'female')]\n",
    "\n",
    "#calculate percentages of survival by sex.\n",
    "male_Pos= np.round((len(Male_survivors)/len(survivors))*100)\n",
    "female_Pos= np.round((len(Female_survivors)/len(survivors))*100) \n",
    "\n",
    "#display the survival proportions by gender\n",
    "print(\"{} % of survivors were male, {} % were Women\".format(male_Pos,female_Pos))\n",
    "\n",
    "#Calculate proportions of survival with in the sub groups\n",
    "\n",
    "# male survivors as apercentage of total males aboard\n",
    "Num_Males= titanic_data[(Updated_df['Sex']=='male')]\n",
    "male_Suv_percent=np.round((len(Male_survivors)/len(Num_Males))*100) \n",
    "\n",
    "#Female survivors as a percentage of total women aboard\n",
    "Num_Females =titanic_data[(Updated_df['Sex']=='female')]\n",
    "female_suv_Percent =np.round((len(Female_survivors)/len(Num_Females))*100) \n",
    "\n",
    "#display survival portions within Gender\n",
    "print(\"{} % of all men Survived and {} % of all women survived\".format(male_Suv_percent,female_suv_Percent ))\n",
    "\n"
   ]
  },
  {
   "cell_type": "code",
   "execution_count": 297,
   "metadata": {},
   "outputs": [
    {
     "data": {
      "text/plain": [
       "Sex\n",
       "female    0.742038\n",
       "male      0.188908\n",
       "Name: Survived, dtype: float64"
      ]
     },
     "execution_count": 297,
     "metadata": {},
     "output_type": "execute_result"
    }
   ],
   "source": [
    "#cross checking the above calculations\n",
    "titanic_data.groupby('Sex').Survived.mean()"
   ]
  },
  {
   "cell_type": "markdown",
   "metadata": {},
   "source": [
    "## Graphical representation of Survival proportions by Gender"
   ]
  },
  {
   "cell_type": "code",
   "execution_count": 298,
   "metadata": {},
   "outputs": [
    {
     "data": {
      "text/plain": [
       "<matplotlib.text.Text at 0x1cfbce0c6a0>"
      ]
     },
     "execution_count": 298,
     "metadata": {},
     "output_type": "execute_result"
    },
    {
     "data": {
      "image/png": "[encoded data removed]",
      "text/plain": [
       "<matplotlib.figure.Figure at 0x1cfbcae9320>"
      ]
     },
     "metadata": {},
     "output_type": "display_data"
    }
   ],
   "source": [
    "SurvivalByGender =titanic_data.groupby('Sex')['Survived'].mean()\n",
    "SurvivalByGender.plot(kind ='bar')\n",
    "plt.title(\"Bar graph showing proportions of Survival by Gender\", fontsize =16)\n",
    "plt.xlabel(\"Gender\", fontsize =14)\n",
    "plt.ylabel(\"Proportions\", fontsize=14)"
   ]
  },
  {
   "cell_type": "markdown",
   "metadata": {},
   "source": [
    "From the above we can see that only 18.8% of males survived compared to 74% 0f ladies, "
   ]
  },
  {
   "cell_type": "markdown",
   "metadata": {},
   "source": [
    "## Relationship between survival and gender\n",
    "I will be looking at the proportions of survival by Gender within the distinct passenger classes"
   ]
  },
  {
   "cell_type": "code",
   "execution_count": 299,
   "metadata": {},
   "outputs": [
    {
     "data": {
      "text/html": [
       "<div>\n",
       "<style>\n",
       "    .dataframe thead tr:only-child th {\n",
       "        text-align: right;\n",
       "    }\n",
       "\n",
       "    .dataframe thead th {\n",
       "        text-align: left;\n",
       "    }\n",
       "\n",
       "    .dataframe tbody tr th {\n",
       "        vertical-align: top;\n",
       "    }\n",
       "</style>\n",
       "<table border=\"1\" class=\"dataframe\">\n",
       "  <thead>\n",
       "    <tr style=\"text-align: right;\">\n",
       "      <th></th>\n",
       "      <th>Gender_Number</th>\n",
       "      <th>Gender_Surv</th>\n",
       "      <th>Sex</th>\n",
       "    </tr>\n",
       "  </thead>\n",
       "  <tbody>\n",
       "    <tr>\n",
       "      <th>0</th>\n",
       "      <td>2</td>\n",
       "      <td>0.740</td>\n",
       "      <td>Female</td>\n",
       "    </tr>\n",
       "    <tr>\n",
       "      <th>1</th>\n",
       "      <td>1</td>\n",
       "      <td>0.189</td>\n",
       "      <td>male</td>\n",
       "    </tr>\n",
       "  </tbody>\n",
       "</table>\n",
       "</div>"
      ],
      "text/plain": [
       "   Gender_Number  Gender_Surv     Sex\n",
       "0              2        0.740  Female\n",
       "1              1        0.189    male"
      ]
     },
     "execution_count": 299,
     "metadata": {},
     "output_type": "execute_result"
    }
   ],
   "source": [
    "# creating a dataframe from the above proportions\n",
    "Gender_df = pd.DataFrame( {'Sex': ['Female', 'male',], 'Gender_Surv': [0.74, 0.189 ], 'Gender_Number': [2,1] } )\n",
    "Gender_df\n"
   ]
  },
  {
   "cell_type": "code",
   "execution_count": 300,
   "metadata": {},
   "outputs": [
    {
     "name": "stderr",
     "output_type": "stream",
     "text": [
      "C:\\Users\\Claire\\Anaconda3\\lib\\site-packages\\scipy\\stats\\stats.py:3031: RuntimeWarning: invalid value encountered in double_scalars\n",
      "  prob = _betai(0.5*df, 0.5, df/(df+t_squared))\n",
      "C:\\Users\\Claire\\Anaconda3\\lib\\site-packages\\scipy\\stats\\stats.py:5277: RuntimeWarning: invalid value encountered in less\n",
      "  x = np.where(x < 1.0, x, 1.0)  # if x > 1 then return 1.0\n"
     ]
    },
    {
     "data": {
      "text/plain": [
       "(0.99999999999999978, nan)"
      ]
     },
     "execution_count": 300,
     "metadata": {},
     "output_type": "execute_result"
    }
   ],
   "source": [
    "pearsonr(Gender_df.Gender_Number, Gender_df.Gender_Surv) #find correlation between gender and survival"
   ]
  },
  {
   "cell_type": "code",
   "execution_count": 301,
   "metadata": {},
   "outputs": [
    {
     "data": {
      "text/plain": [
       "<matplotlib.axes._subplots.AxesSubplot at 0x1cfbcd22fd0>"
      ]
     },
     "execution_count": 301,
     "metadata": {},
     "output_type": "execute_result"
    },
    {
     "data": {
      "image/png": "[encoded data removed]",
      "text/plain": [
       "<matplotlib.figure.Figure at 0x1cfbcafbb70>"
      ]
     },
     "metadata": {},
     "output_type": "display_data"
    }
   ],
   "source": [
    "sb.regplot(x = 'Gender_Number', y = 'Gender_Surv', data= Gender_df , scatter = True )"
   ]
  },
  {
   "cell_type": "markdown",
   "metadata": {
    "collapsed": true
   },
   "source": [
    "given the r value of 0.9, i woould reject the null hypothesis that gender does not contribute to survival"
   ]
  },
  {
   "cell_type": "markdown",
   "metadata": {},
   "source": [
    "### Survival By Age Group"
   ]
  },
  {
   "cell_type": "markdown",
   "metadata": {},
   "source": [
    "### Which age group had a higher chance of survival?\n",
    "#### Hypothesis\n",
    "\n",
    "Age group does impact the chances of survival\n",
    "* H0 = Age Group has no impact on survival\n",
    "* HA = Age Group does impact the chances of survival"
   ]
  },
  {
   "cell_type": "markdown",
   "metadata": {},
   "source": [
    "Number of Survival Per age group"
   ]
  },
  {
   "cell_type": "code",
   "execution_count": 302,
   "metadata": {},
   "outputs": [
    {
     "data": {
      "text/html": [
       "<div>\n",
       "<style>\n",
       "    .dataframe thead tr:only-child th {\n",
       "        text-align: right;\n",
       "    }\n",
       "\n",
       "    .dataframe thead th {\n",
       "        text-align: left;\n",
       "    }\n",
       "\n",
       "    .dataframe tbody tr th {\n",
       "        vertical-align: top;\n",
       "    }\n",
       "</style>\n",
       "<table border=\"1\" class=\"dataframe\">\n",
       "  <thead>\n",
       "    <tr style=\"text-align: right;\">\n",
       "      <th>age_group</th>\n",
       "      <th>0-9</th>\n",
       "      <th>10-19</th>\n",
       "      <th>20-29</th>\n",
       "      <th>30-39</th>\n",
       "      <th>40-49</th>\n",
       "      <th>50-59</th>\n",
       "      <th>60-69</th>\n",
       "      <th>70-79</th>\n",
       "    </tr>\n",
       "    <tr>\n",
       "      <th>Survived</th>\n",
       "      <th></th>\n",
       "      <th></th>\n",
       "      <th></th>\n",
       "      <th></th>\n",
       "      <th></th>\n",
       "      <th></th>\n",
       "      <th></th>\n",
       "      <th></th>\n",
       "    </tr>\n",
       "  </thead>\n",
       "  <tbody>\n",
       "    <tr>\n",
       "      <th>False</th>\n",
       "      <td>24</td>\n",
       "      <td>61</td>\n",
       "      <td>245</td>\n",
       "      <td>101</td>\n",
       "      <td>71</td>\n",
       "      <td>28</td>\n",
       "      <td>13</td>\n",
       "      <td>6</td>\n",
       "    </tr>\n",
       "    <tr>\n",
       "      <th>True</th>\n",
       "      <td>38</td>\n",
       "      <td>41</td>\n",
       "      <td>113</td>\n",
       "      <td>84</td>\n",
       "      <td>39</td>\n",
       "      <td>20</td>\n",
       "      <td>6</td>\n",
       "      <td>0</td>\n",
       "    </tr>\n",
       "  </tbody>\n",
       "</table>\n",
       "</div>"
      ],
      "text/plain": [
       "age_group  0-9  10-19  20-29  30-39  40-49  50-59  60-69  70-79\n",
       "Survived                                                       \n",
       "False       24     61    245    101     71     28     13      6\n",
       "True        38     41    113     84     39     20      6      0"
      ]
     },
     "execution_count": 302,
     "metadata": {},
     "output_type": "execute_result"
    }
   ],
   "source": [
    "#tabular presentation of survival by age group\n",
    "table =pd.crosstab(Updated_df['Survived'], Updated_df['age_group'])\n",
    "table"
   ]
  },
  {
   "cell_type": "markdown",
   "metadata": {},
   "source": [
    "#### Distributions of age groups\n",
    "From the above table we can see that most of the people aboard the titanic were aged between 20 and 29, this can be seen better on a bar graph."
   ]
  },
  {
   "cell_type": "code",
   "execution_count": 303,
   "metadata": {},
   "outputs": [
    {
     "data": {
      "text/plain": [
       "<matplotlib.text.Text at 0x1cfbcf5fba8>"
      ]
     },
     "execution_count": 303,
     "metadata": {},
     "output_type": "execute_result"
    },
    {
     "data": {
      "image/png": "[encoded data removed]",
      "text/plain": [
       "<matplotlib.figure.Figure at 0x1cfbce096d8>"
      ]
     },
     "metadata": {},
     "output_type": "display_data"
    }
   ],
   "source": [
    "#creates a bar graph showing the distibutions of age groups\n",
    "Updated_df.groupby('age_group').size().plot(kind='bar', stacked = False)\n",
    "plt.title(\"Bar Graph showing Sample age group distributions\", fontsize =16)\n",
    "plt.xlabel(\"Age Groups\", fontsize =14)\n",
    "plt.ylabel(\"Sum\", fontsize=14)"
   ]
  },
  {
   "cell_type": "markdown",
   "metadata": {},
   "source": [
    "From the bar graph above, we can see that most of the people aboard the titanic were aged between 20 and 29 years. "
   ]
  },
  {
   "cell_type": "markdown",
   "metadata": {},
   "source": [
    "Proportions of age-group that survived "
   ]
  },
  {
   "cell_type": "code",
   "execution_count": 304,
   "metadata": {},
   "outputs": [
    {
     "data": {
      "text/plain": [
       "age_group\n",
       "0-9      0.612903\n",
       "10-19    0.401961\n",
       "20-29    0.315642\n",
       "30-39    0.454054\n",
       "40-49    0.354545\n",
       "50-59    0.416667\n",
       "60-69    0.315789\n",
       "70-79    0.000000\n",
       "Name: Survived, dtype: float64"
      ]
     },
     "execution_count": 304,
     "metadata": {},
     "output_type": "execute_result"
    }
   ],
   "source": [
    "Updated_df.groupby('age_group')['Survived'].mean()"
   ]
  },
  {
   "cell_type": "markdown",
   "metadata": {},
   "source": [
    "The proportions give us a better picture of the contribution of age groups to survival than the count figures, i am going to go ahead a create a visual for this too"
   ]
  },
  {
   "cell_type": "code",
   "execution_count": 305,
   "metadata": {},
   "outputs": [
    {
     "data": {
      "text/plain": [
       "<matplotlib.text.Text at 0x1cfbd0275c0>"
      ]
     },
     "execution_count": 305,
     "metadata": {},
     "output_type": "execute_result"
    },
    {
     "data": {
      "image/png": "[encoded data removed]",
      "text/plain": [
       "<matplotlib.figure.Figure at 0x1cfbcfde7b8>"
      ]
     },
     "metadata": {},
     "output_type": "display_data"
    }
   ],
   "source": [
    "#creates a bar graph showing the proportins of survival by age groups\n",
    "Updated_df.groupby('age_group')['Survived'].mean().plot(kind='bar')\n",
    "plt.title(\"Survival by Age group\", fontsize =16)\n",
    "plt.xlabel(\"Age Groups\", fontsize =14)\n",
    "plt.ylabel(\"Sum\", fontsize=14)"
   ]
  },
  {
   "cell_type": "markdown",
   "metadata": {},
   "source": [
    "## Relationship between Age and Survival"
   ]
  },
  {
   "cell_type": "code",
   "execution_count": 306,
   "metadata": {},
   "outputs": [
    {
     "data": {
      "text/html": [
       "<div>\n",
       "<style>\n",
       "    .dataframe thead tr:only-child th {\n",
       "        text-align: right;\n",
       "    }\n",
       "\n",
       "    .dataframe thead th {\n",
       "        text-align: left;\n",
       "    }\n",
       "\n",
       "    .dataframe tbody tr th {\n",
       "        vertical-align: top;\n",
       "    }\n",
       "</style>\n",
       "<table border=\"1\" class=\"dataframe\">\n",
       "  <thead>\n",
       "    <tr style=\"text-align: right;\">\n",
       "      <th></th>\n",
       "      <th>Survived</th>\n",
       "      <th>Age_Key</th>\n",
       "    </tr>\n",
       "    <tr>\n",
       "      <th>age_group</th>\n",
       "      <th></th>\n",
       "      <th></th>\n",
       "    </tr>\n",
       "  </thead>\n",
       "  <tbody>\n",
       "    <tr>\n",
       "      <th>0-9</th>\n",
       "      <td>0.612903</td>\n",
       "      <td>1</td>\n",
       "    </tr>\n",
       "    <tr>\n",
       "      <th>10-19</th>\n",
       "      <td>0.401961</td>\n",
       "      <td>2</td>\n",
       "    </tr>\n",
       "    <tr>\n",
       "      <th>20-29</th>\n",
       "      <td>0.315642</td>\n",
       "      <td>3</td>\n",
       "    </tr>\n",
       "  </tbody>\n",
       "</table>\n",
       "</div>"
      ],
      "text/plain": [
       "           Survived  Age_Key\n",
       "age_group                   \n",
       "0-9        0.612903        1\n",
       "10-19      0.401961        2\n",
       "20-29      0.315642        3"
      ]
     },
     "execution_count": 306,
     "metadata": {},
     "output_type": "execute_result"
    }
   ],
   "source": [
    "#group by age groups\n",
    "age_group_proportions =Updated_df.groupby('age_group')['Survived'].mean()\n",
    "#create a dataframe with age group proportions data\n",
    "Age_vs_Survival= pd.DataFrame(age_group_proportions)\n",
    "#add a column for numeric number for each group\n",
    "Age_vs_Survival['Age_Key'] =[1,2,3,4,5,6,7,8]\n",
    "#display first three rows of the dataframe\n",
    "Age_vs_Survival.head(3)"
   ]
  },
  {
   "cell_type": "code",
   "execution_count": 307,
   "metadata": {},
   "outputs": [
    {
     "data": {
      "text/plain": [
       "<matplotlib.axes._subplots.AxesSubplot at 0x1cfbcfa9908>"
      ]
     },
     "execution_count": 307,
     "metadata": {},
     "output_type": "execute_result"
    },
    {
     "data": {
      "image/png": "[encoded data removed]",
      "text/plain": [
       "<matplotlib.figure.Figure at 0x1cfbcacec18>"
      ]
     },
     "metadata": {},
     "output_type": "display_data"
    }
   ],
   "source": [
    "#graph showing survival rate per ageroup\n",
    "sb.regplot(x='Age_Key', y='Survived', data=Age_vs_Survival, scatter=True)"
   ]
  },
  {
   "cell_type": "code",
   "execution_count": 308,
   "metadata": {},
   "outputs": [
    {
     "data": {
      "text/plain": [
       "<matplotlib.axes._subplots.AxesSubplot at 0x1cfbd18fa58>"
      ]
     },
     "execution_count": 308,
     "metadata": {},
     "output_type": "execute_result"
    },
    {
     "data": {
      "image/png": "[encoded data removed]",
      "text/plain": [
       "<matplotlib.figure.Figure at 0x1cfbcde18d0>"
      ]
     },
     "metadata": {},
     "output_type": "display_data"
    }
   ],
   "source": [
    "Age_vs_Survival.plot(kind='scatter', x='Age_Key', y='Survived', c=['pink'], s=160)"
   ]
  },
  {
   "cell_type": "markdown",
   "metadata": {
    "collapsed": true
   },
   "source": [
    "The graph above shows that the younger children did survive more than the adults, but when it gets to adults its not very clear whether age really contributed to survival.\n",
    "* I will calculate the correlation and p value."
   ]
  },
  {
   "cell_type": "code",
   "execution_count": 309,
   "metadata": {},
   "outputs": [
    {
     "data": {
      "text/plain": [
       "(-0.75819901661158862, 0.029244210864030052)"
      ]
     },
     "execution_count": 309,
     "metadata": {},
     "output_type": "execute_result"
    }
   ],
   "source": [
    "#gettting the correlation between age and survival and P.value\n",
    "pearsonr(Age_vs_Survival['Age_Key'],Age_vs_Survival['Survived'])"
   ]
  },
  {
   "cell_type": "markdown",
   "metadata": {},
   "source": [
    "The above r value of -0.76 shows that there is a strong negative relationship between survival and age. The P Value is also less than 0.05, therefore i will reject the null hypothesis that age has no impact on survival."
   ]
  },
  {
   "cell_type": "markdown",
   "metadata": {},
   "source": [
    "### Survival by passenger Class"
   ]
  },
  {
   "cell_type": "markdown",
   "metadata": {
    "collapsed": true
   },
   "source": [
    "### Which social class stands a higher chance of surviving?\n",
    "#### Hypothesis\n",
    "Social class does impact the chances of survival\n",
    "* H0 = Social Class has no impact on survival:\n",
    "* HA = Social Class does impact the chances of survival"
   ]
  },
  {
   "cell_type": "markdown",
   "metadata": {},
   "source": [
    "#### Crosstable for Survived and Passenger Class"
   ]
  },
  {
   "cell_type": "code",
   "execution_count": 310,
   "metadata": {},
   "outputs": [
    {
     "data": {
      "text/html": [
       "<div>\n",
       "<style>\n",
       "    .dataframe thead tr:only-child th {\n",
       "        text-align: right;\n",
       "    }\n",
       "\n",
       "    .dataframe thead th {\n",
       "        text-align: left;\n",
       "    }\n",
       "\n",
       "    .dataframe tbody tr th {\n",
       "        vertical-align: top;\n",
       "    }\n",
       "</style>\n",
       "<table border=\"1\" class=\"dataframe\">\n",
       "  <thead>\n",
       "    <tr style=\"text-align: right;\">\n",
       "      <th>Pclass</th>\n",
       "      <th>First Class</th>\n",
       "      <th>Sec Class</th>\n",
       "      <th>Third Class</th>\n",
       "    </tr>\n",
       "    <tr>\n",
       "      <th>Survived</th>\n",
       "      <th></th>\n",
       "      <th></th>\n",
       "      <th></th>\n",
       "    </tr>\n",
       "  </thead>\n",
       "  <tbody>\n",
       "    <tr>\n",
       "      <th>False</th>\n",
       "      <td>80</td>\n",
       "      <td>97</td>\n",
       "      <td>372</td>\n",
       "    </tr>\n",
       "    <tr>\n",
       "      <th>True</th>\n",
       "      <td>136</td>\n",
       "      <td>87</td>\n",
       "      <td>119</td>\n",
       "    </tr>\n",
       "  </tbody>\n",
       "</table>\n",
       "</div>"
      ],
      "text/plain": [
       "Pclass    First Class  Sec Class  Third Class\n",
       "Survived                                     \n",
       "False              80         97          372\n",
       "True              136         87          119"
      ]
     },
     "execution_count": 310,
     "metadata": {},
     "output_type": "execute_result"
    }
   ],
   "source": [
    "#Tabular presentation of survived and Passenger class\n",
    "table =pd.crosstab(Updated_df['Survived'], Updated_df['Pclass'])\n",
    "table"
   ]
  },
  {
   "cell_type": "code",
   "execution_count": 311,
   "metadata": {},
   "outputs": [
    {
     "data": {
      "text/plain": [
       "Pclass\n",
       "First Class    0.629630\n",
       "Sec Class      0.472826\n",
       "Third Class    0.242363\n",
       "Name: Survived, dtype: float64"
      ]
     },
     "execution_count": 311,
     "metadata": {},
     "output_type": "execute_result"
    }
   ],
   "source": [
    "#proportions with in the pclasses\n",
    "Class_df =Updated_df.groupby('Pclass')['Survived'].mean()\n",
    "Class_df"
   ]
  },
  {
   "cell_type": "markdown",
   "metadata": {},
   "source": [
    "From the above table we can see that 62% of first class members survived , 47% of second class survived and only 24% of their Class survived hence its safe to conclude that the class of the passengers may have impacted their survival. I will look at the pearonsr andd p values to confirm my suspitions later"
   ]
  },
  {
   "cell_type": "code",
   "execution_count": 312,
   "metadata": {},
   "outputs": [
    {
     "data": {
      "text/plain": [
       "<matplotlib.text.Text at 0x1cfbd20af98>"
      ]
     },
     "execution_count": 312,
     "metadata": {},
     "output_type": "execute_result"
    },
    {
     "data": {
      "image/png": "[encoded data removed]",
      "text/plain": [
       "<matplotlib.figure.Figure at 0x1cfbd0771d0>"
      ]
     },
     "metadata": {},
     "output_type": "display_data"
    }
   ],
   "source": [
    "#creates a bar graph showing the proportins of survival by class\n",
    "Class_df.plot(kind='bar')\n",
    "plt.title(\"Survival by passenger Class\", fontsize =16)\n",
    "plt.xlabel(\"Passenger Class\", fontsize =14)\n",
    "plt.ylabel(\"Survivors\", fontsize=14)"
   ]
  },
  {
   "cell_type": "markdown",
   "metadata": {},
   "source": [
    "### Relationship between class and survival"
   ]
  },
  {
   "cell_type": "code",
   "execution_count": 313,
   "metadata": {},
   "outputs": [
    {
     "data": {
      "text/html": [
       "<div>\n",
       "<style>\n",
       "    .dataframe thead tr:only-child th {\n",
       "        text-align: right;\n",
       "    }\n",
       "\n",
       "    .dataframe thead th {\n",
       "        text-align: left;\n",
       "    }\n",
       "\n",
       "    .dataframe tbody tr th {\n",
       "        vertical-align: top;\n",
       "    }\n",
       "</style>\n",
       "<table border=\"1\" class=\"dataframe\">\n",
       "  <thead>\n",
       "    <tr style=\"text-align: right;\">\n",
       "      <th></th>\n",
       "      <th>ClassSurvivalRate</th>\n",
       "      <th>ClassNumber</th>\n",
       "    </tr>\n",
       "    <tr>\n",
       "      <th>Pclass</th>\n",
       "      <th></th>\n",
       "      <th></th>\n",
       "    </tr>\n",
       "  </thead>\n",
       "  <tbody>\n",
       "    <tr>\n",
       "      <th>First Class</th>\n",
       "      <td>0.629630</td>\n",
       "      <td>1</td>\n",
       "    </tr>\n",
       "    <tr>\n",
       "      <th>Sec Class</th>\n",
       "      <td>0.472826</td>\n",
       "      <td>2</td>\n",
       "    </tr>\n",
       "    <tr>\n",
       "      <th>Third Class</th>\n",
       "      <td>0.242363</td>\n",
       "      <td>3</td>\n",
       "    </tr>\n",
       "  </tbody>\n",
       "</table>\n",
       "</div>"
      ],
      "text/plain": [
       "             ClassSurvivalRate  ClassNumber\n",
       "Pclass                                     \n",
       "First Class           0.629630            1\n",
       "Sec Class             0.472826            2\n",
       "Third Class           0.242363            3"
      ]
     },
     "execution_count": 313,
     "metadata": {},
     "output_type": "execute_result"
    }
   ],
   "source": [
    "Class_df =pd.DataFrame(Class_df)\n",
    "Class_df['class_Num']=[1,2,3]\n",
    "Class_df.columns=['ClassSurvivalRate', 'ClassNumber']\n",
    "Class_df"
   ]
  },
  {
   "cell_type": "code",
   "execution_count": 314,
   "metadata": {},
   "outputs": [
    {
     "data": {
      "text/plain": [
       "<matplotlib.axes._subplots.AxesSubplot at 0x1cfbd25e438>"
      ]
     },
     "execution_count": 314,
     "metadata": {},
     "output_type": "execute_result"
    },
    {
     "data": {
      "image/png": "[encoded data removed]",
      "text/plain": [
       "<matplotlib.figure.Figure at 0x1cfbd1b22e8>"
      ]
     },
     "metadata": {},
     "output_type": "display_data"
    }
   ],
   "source": [
    "#relationship between survived and pclass\n",
    "sb.regplot(data=Class_df, y ='ClassSurvivalRate', x = 'ClassNumber' , scatter =True)"
   ]
  },
  {
   "cell_type": "markdown",
   "metadata": {},
   "source": [
    "From the above plot we see that as the class number goes up, the survival rate decreases"
   ]
  },
  {
   "cell_type": "code",
   "execution_count": 315,
   "metadata": {},
   "outputs": [
    {
     "data": {
      "text/plain": [
       "(-0.99402435522718258, 0.069631220920609235)"
      ]
     },
     "execution_count": 315,
     "metadata": {},
     "output_type": "execute_result"
    }
   ],
   "source": [
    "pearsonr(Class_df.ClassSurvivalRate,Class_df.ClassNumber) #calculating correlation and p value"
   ]
  },
  {
   "cell_type": "markdown",
   "metadata": {},
   "source": [
    "The r value of -0.9, shows a strong correlation between passenger class and survivals rate but the P value of 0.06 does not let us reject the null hypothesis that passenger class doesnt impact survival."
   ]
  },
  {
   "cell_type": "markdown",
   "metadata": {
    "collapsed": true
   },
   "source": [
    "# Conclusion\n",
    "Based on the pearsonr statistics and P-values calculated it is safe to conclude that gender and social class do contribute to survival. When it gets to age , the r value of -0.09 shows a strong positive correlation, this may have been becausse children age seemed to affect survival the younger the child the better the survival chances but that didnt show up at the adults section. I also got a Pvalue of 0.06 so couldnt reject the null.\n",
    "its also important to note that correlation does not really mean causation, the socal class, gender and sex, relate to survival but there could have been several other reasons that contributed to survival, like past experience, race,cultural background, level of education , the strenth of people and how athletic they are."
   ]
  },
  {
   "cell_type": "markdown",
   "metadata": {},
   "source": [
    "# Limitations of the study\n",
    "While doing the study I was challenged with the below listed limitations.\n",
    "1. I used the Titanic dataset to find out the characteristics of the passengers that let to their survival. The data that I used was from the public dataset, it maynot have been intended for that kind of research so their could have been some information that was left out that might have been good for the research.\n",
    "\n",
    "2. The dataset had missing age values, embarked and cabin. I used the mean with in social class and gender to take care of the missing age data this is a limitation because when you try to get statistics about the data for analysis the mean and median are not really what they are.\n",
    "\n",
    "3. The Parch column wasnt well described, the documentation says it shows how many parents a child has but we had people with 6 parents, so i wasnt sure if the variable was for relatives because i  dont think anyone can have 6 parents.\n",
    "\n",
    "4. Correlation is not causation. I used data to come up with conclusions, that are based on correlation, but there could be other factors that contributed to survival for example, the strenth of people, how athletic they are, their cultural background, level of education, past experience and race could have contributed to their survival.\n"
   ]
  },
  {
   "cell_type": "markdown",
   "metadata": {},
   "source": [
    "## Resources: \n",
    "\n",
    "https://en.wikipedia.org/wiki/RMS_Titanic\n",
    "\n",
    "https://sourceforge.net/p/jupiter/wiki/markdown_syntax/#md_ex_pre\n",
    "\n",
    "https://docs.scipy.org/doc/scipy-0.14.0/reference/generated/scipy.stats.pearsonr.html\n",
    "\n",
    "http://matplotlib.org/gallery.html#statistics\n",
    "\n",
    "\n"
   ]
  },
  {
   "cell_type": "code",
   "execution_count": null,
   "metadata": {
    "collapsed": true
   },
   "outputs": [],
   "source": []
  }
 ],
 "metadata": {
  "kernelspec": {
   "display_name": "Python 3",
   "language": "python",
   "name": "python3"
  },
  "language_info": {
   "codemirror_mode": {
    "name": "ipython",
    "version": 3
   },
   "file_extension": ".py",
   "mimetype": "text/x-python",
   "name": "python",
   "nbconvert_exporter": "python",
   "pygments_lexer": "ipython3",
   "version": "3.6.1"
  }
 },
 "nbformat": 4,
 "nbformat_minor": 1
}
