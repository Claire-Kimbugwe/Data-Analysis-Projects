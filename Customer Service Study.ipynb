{
 "cells": [
  {
   "cell_type": "markdown",
   "metadata": {},
   "source": [
    "## Customer Service Study\n",
    "### Introduction\n",
    "Shelter inc, is a non governmental organisation that works to reduce the number of people who are homeless and stop others from loosing their homes by providing services that help clients retain permanent housing.\n",
    "\n",
    "#### This study was geared to find out how well the staff treat prospective clients with respect and dignity in terms of\n",
    "\n",
    "1. The time spent from the time a prospective client reaches out to the agency and the first time the agency calls back the client.\n",
    "2. The total time spent going through the pre-approval processes.\n",
    "3. Number of touch points from the first time a prospective participant contacts the agency until the agency communicates with the participant whether they will receive services or not.\n",
    "\n",
    "### Datasets\n",
    "The customer service study uses three data sets\n",
    "1. #### Reception dataset\n",
    "This data set contains information about reception callers, some of the variables include,Retrieved Call from Voice Mail,Receptionist Referred Caller to One Door,datetime_called,datetime_Returned, phone number, \n",
    "2. #### One door dataset \n",
    "This dataset contains information about one door callers, main variables include 'date_time_called,'date_time_Retrieved', 'date_time1', 'date_time2', 'date_time3','Second_date_Call_Time', 'Third_date_Call_Time','Fourth_date_Call_Time', 'Case Number', 'Entered into HMIS One Door'and 'Call Not Appropriate for One Door'\n",
    "3. #### One door Clarity dataset\n",
    "This dataset contains callers who were reffered to programs by one door, the main variables looked at are Case Number, recommendation,Project Start Date,Project Exit Date,First Attempt Date,Second Attempt Date,Third Attempt Date,Date Met with Applicant, Meeting Outcome,Decision date,decision Notes.\n",
    "\n",
    "### Importing required packages"
   ]
  },
  {
   "cell_type": "code",
   "execution_count": 75,
   "metadata": {},
   "outputs": [],
   "source": [
    "import pandas as pd\n",
    "import numpy as np\n",
    "from pandas import Series, DataFrame\n",
    "\n",
    "from datetime import datetime\n",
    "import statistics as stat\n",
    "from scipy.stats.stats import pearsonr\n",
    "\n",
    "import seaborn as sb\n",
    "import matplotlib.pyplot as plt\n",
    "from matplotlib import rcParams\n",
    "\n",
    "%matplotlib inline\n",
    "\n",
    "rcParams['figure.figsize'] = 5, 4\n",
    "sb.set_style('whitegrid')\n"
   ]
  },
  {
   "cell_type": "markdown",
   "metadata": {},
   "source": [
    "### Data Loading , exploration and analysis\n",
    "#### Reception Data"
   ]
  },
  {
   "cell_type": "code",
   "execution_count": 76,
   "metadata": {},
   "outputs": [
    {
     "name": "stdout",
     "output_type": "stream",
     "text": [
      "<class 'pandas.core.frame.DataFrame'>\n",
      "RangeIndex: 2296 entries, 0 to 2295\n",
      "Data columns (total 9 columns):\n",
      "datetime_called                             2258 non-null object\n",
      "Business Hours                              41 non-null object\n",
      "Phone #                                     1870 non-null object\n",
      "Has Phone                                   2296 non-null object\n",
      "Retrieved Call from Voice Mal               2296 non-null bool\n",
      "Receptionist Referred Caller to One Door    2296 non-null bool\n",
      "Receptionist Referred Caller to             54 non-null object\n",
      "datetime_Returned                           84 non-null object\n",
      "Time diff in minutes                        84 non-null float64\n",
      "dtypes: bool(2), float64(1), object(6)\n",
      "memory usage: 130.1+ KB\n"
     ]
    }
   ],
   "source": [
    "#bringing in the reception dataset\n",
    "recep=pd.read_excel('Claire_Recep_9sept.xlsx')\n",
    "recep=pd.DataFrame(recep)\n",
    "recep.info()"
   ]
  },
  {
   "cell_type": "code",
   "execution_count": 77,
   "metadata": {},
   "outputs": [],
   "source": [
    "#make phone the index\n",
    "recep=recep.set_index('Phone #')"
   ]
  },
  {
   "cell_type": "code",
   "execution_count": 78,
   "metadata": {},
   "outputs": [
    {
     "name": "stdout",
     "output_type": "stream",
     "text": [
      "<class 'pandas.core.frame.DataFrame'>\n",
      "Index: 2296 entries, 980-267-6571 to nan\n",
      "Data columns (total 6 columns):\n",
      "datetime_called                             2258 non-null datetime64[ns]\n",
      "Business Hours                              41 non-null object\n",
      "Has Phone                                   2296 non-null object\n",
      "Retrieved Call from Voice Mal               2296 non-null bool\n",
      "Receptionist Referred Caller to One Door    2296 non-null bool\n",
      "datetime_Returned                           84 non-null datetime64[ns]\n",
      "dtypes: bool(2), datetime64[ns](2), object(2)\n",
      "memory usage: 94.2+ KB\n"
     ]
    }
   ],
   "source": [
    "#drop unwanted columns\n",
    "recep=recep.drop(columns=['Time diff in minutes','Receptionist Referred Caller to' ])\n",
    "#change data types\n",
    "recep['datetime_called']=recep['datetime_called'].astype('datetime64')\n",
    "recep['datetime_Returned']=recep['datetime_Returned'].astype('datetime64')\n",
    "recep.info()"
   ]
  },
  {
   "cell_type": "code",
   "execution_count": 79,
   "metadata": {},
   "outputs": [],
   "source": [
    "#creating the time difference columns\n",
    "recep['diff']=recep['datetime_Returned'].sub(recep['datetime_called'])"
   ]
  },
  {
   "cell_type": "code",
   "execution_count": 80,
   "metadata": {},
   "outputs": [
    {
     "data": {
      "text/plain": [
       "datetime_called                             2018-06-01 01:33:00\n",
       "Has Phone                                                    NO\n",
       "Retrieved Call from Voice Mal                             False\n",
       "Receptionist Referred Caller to One Door                  False\n",
       "datetime_Returned                           2018-06-04 14:15:00\n",
       "diff                                                          0\n",
       "dtype: object"
      ]
     },
     "execution_count": 80,
     "metadata": {},
     "output_type": "execute_result"
    }
   ],
   "source": [
    "#change time diff to minutes\n",
    "recep['diff']=recep['diff'].astype('timedelta64[m]')\n",
    "recep.min() #get min values of the dataset"
   ]
  },
  {
   "cell_type": "markdown",
   "metadata": {},
   "source": [
    "From the above statistics, I realised that their are some negative values, this shows that there were data entry errors. *(Voice mails were retrieved before the client called)* Iam going to run the statistics again minus records with data entry errors."
   ]
  },
  {
   "cell_type": "code",
   "execution_count": 81,
   "metadata": {},
   "outputs": [
    {
     "data": {
      "text/plain": [
       "(              diff\n",
       " count    39.000000\n",
       " mean    220.333333\n",
       " std     552.102028\n",
       " min       0.000000\n",
       " 25%       2.500000\n",
       " 50%       7.000000\n",
       " 75%      36.500000\n",
       " max    2936.000000, 1.0)"
      ]
     },
     "execution_count": 81,
     "metadata": {},
     "output_type": "execute_result"
    }
   ],
   "source": [
    "recep1=recep[(recep['diff']>=0) &(recep['Retrieved Call from Voice Mal']== True)]\n",
    "recep1.describe(), stat.mode(recep1['diff'])#statistics without errors"
   ]
  },
  {
   "cell_type": "markdown",
   "metadata": {},
   "source": [
    "From the above we can see that most people recieve information about calling one door from the receptionist with in a minute of their call.<br>\n",
    "On average it takes the receptionist 220 minutes to return a call.\n",
    "#### below are a few more statistics from excel"
   ]
  },
  {
   "attachments": {
    "image.png": {
     "image/png": "[encoded data removed]"
    }
   },
   "cell_type": "markdown",
   "metadata": {},
   "source": [
    "![image.png](attachment:image.png)"
   ]
  },
  {
   "cell_type": "markdown",
   "metadata": {},
   "source": [
    "### One door data"
   ]
  },
  {
   "cell_type": "code",
   "execution_count": 82,
   "metadata": {},
   "outputs": [
    {
     "data": {
      "text/plain": [
       "Index(['date_time_called', 'date_time_Retrieved', 'date_time1',\n",
       "       'retrieve_diff', 'Made Contact 1?', 'time_diff_1', 'date_time2',\n",
       "       'Made Contact 2?', 'date_time3', 'Made Contact 3?',\n",
       "       'Second_date_Call_Time', 'Second Call Notes', 'Third_date_Call_Time',\n",
       "       'Third Call Notes', 'Fourth_date_Call_Time', 'Fourth Call Notes',\n",
       "       'datelastcontacted', 'Time diff2', 'Decision Date1', 'Case Number',\n",
       "       'Phone #', 'Second Phone #  or Ext', 'ID', 'Entered into HMIS One Door',\n",
       "       'Call Not Appropriate for One Door', 'Call More Appropriate for',\n",
       "       ' Considered for', 'Forwarded/Referred Call to', 'Notes',\n",
       "       'Further Call Notes'],\n",
       "      dtype='object')"
      ]
     },
     "execution_count": 82,
     "metadata": {},
     "output_type": "execute_result"
    }
   ],
   "source": [
    "df=pd.read_excel(\"Herlinda2.xlsx\") #read in the data\n",
    "oned=pd.DataFrame(df)\n",
    "oned.columns #look at columns"
   ]
  },
  {
   "cell_type": "code",
   "execution_count": 83,
   "metadata": {},
   "outputs": [
    {
     "data": {
      "text/plain": [
       "Index(['date_time_called', 'date_time_Retrieved', 'date_time1', 'date_time2',\n",
       "       'date_time3', 'Second_date_Call_Time', 'Third_date_Call_Time',\n",
       "       'Fourth_date_Call_Time', 'Case Number', 'Phone #', 'ID',\n",
       "       'Entered into HMIS One Door', 'Call Not Appropriate for One Door'],\n",
       "      dtype='object')"
      ]
     },
     "execution_count": 83,
     "metadata": {},
     "output_type": "execute_result"
    }
   ],
   "source": [
    "#drop columns\n",
    "oned2= oned.drop(columns=['Made Contact 1?', 'time_diff_1', 'Made Contact 2?', 'Made Contact 3?',\n",
    "       'Second Call Notes', 'Third Call Notes', 'Fourth Call Notes', 'datelastcontacted', 'Decision Date1', \n",
    "       'Second Phone #  or Ext', 'Call More Appropriate for','Time diff2','retrieve_diff',\n",
    "       ' Considered for', 'Forwarded/Referred Call to', 'Notes',\n",
    "       'Further Call Notes'])\n",
    "oned2.columns"
   ]
  },
  {
   "cell_type": "code",
   "execution_count": 84,
   "metadata": {},
   "outputs": [],
   "source": [
    "#change data types\n",
    "oned2['date_time_called']= pd.to_datetime(oned2['date_time_called'])\n",
    "oned2['date_time1']= pd.to_datetime(oned2['date_time1'])\n",
    "oned2['date_time_Retrieved']= pd.to_datetime(oned2['date_time_Retrieved'])\n",
    "oned2['Second_date_Call_Time']= pd.to_datetime(oned2['Second_date_Call_Time'])\n",
    "oned2['date_time2']= pd.to_datetime(oned2['date_time2'])\n",
    "oned2['date_time3']= pd.to_datetime(oned2['date_time3'])\n",
    "oned2['Third_date_Call_Time']= pd.to_datetime(oned2['Third_date_Call_Time'])\n",
    "oned2['Fourth_date_Call_Time']= pd.to_datetime(oned2['Fourth_date_Call_Time'])\n",
    "oned2.ID= oned2['ID'].astype(str)"
   ]
  },
  {
   "cell_type": "code",
   "execution_count": 85,
   "metadata": {},
   "outputs": [
    {
     "data": {
      "text/html": [
       "<div>\n",
       "<style scoped>\n",
       "    .dataframe tbody tr th:only-of-type {\n",
       "        vertical-align: middle;\n",
       "    }\n",
       "\n",
       "    .dataframe tbody tr th {\n",
       "        vertical-align: top;\n",
       "    }\n",
       "\n",
       "    .dataframe thead th {\n",
       "        text-align: right;\n",
       "    }\n",
       "</style>\n",
       "<table border=\"1\" class=\"dataframe\">\n",
       "  <thead>\n",
       "    <tr style=\"text-align: right;\">\n",
       "      <th></th>\n",
       "      <th>date_time_called</th>\n",
       "      <th>date_time_Retrieved</th>\n",
       "      <th>date_time1</th>\n",
       "      <th>date_time2</th>\n",
       "      <th>date_time3</th>\n",
       "      <th>Second_date_Call_Time</th>\n",
       "      <th>Third_date_Call_Time</th>\n",
       "      <th>Fourth_date_Call_Time</th>\n",
       "      <th>Case Number</th>\n",
       "      <th>Phone #</th>\n",
       "      <th>ID</th>\n",
       "      <th>Entered into HMIS One Door</th>\n",
       "      <th>Call Not Appropriate for One Door</th>\n",
       "    </tr>\n",
       "  </thead>\n",
       "  <tbody>\n",
       "    <tr>\n",
       "      <th>2171</th>\n",
       "      <td>NaT</td>\n",
       "      <td>NaT</td>\n",
       "      <td>2018-07-10 18:21:00</td>\n",
       "      <td>2018-07-12 11:53:00</td>\n",
       "      <td>2018-08-20 11:00:00</td>\n",
       "      <td>2018-08-20 08:27:00</td>\n",
       "      <td>2018-08-20 11:14:00</td>\n",
       "      <td>NaT</td>\n",
       "      <td>NaN</td>\n",
       "      <td>510-927-6379</td>\n",
       "      <td>2717</td>\n",
       "      <td>False</td>\n",
       "      <td>False</td>\n",
       "    </tr>\n",
       "    <tr>\n",
       "      <th>2172</th>\n",
       "      <td>NaT</td>\n",
       "      <td>NaT</td>\n",
       "      <td>NaT</td>\n",
       "      <td>NaT</td>\n",
       "      <td>NaT</td>\n",
       "      <td>NaT</td>\n",
       "      <td>NaT</td>\n",
       "      <td>NaT</td>\n",
       "      <td>NaN</td>\n",
       "      <td>NaN</td>\n",
       "      <td>2701</td>\n",
       "      <td>False</td>\n",
       "      <td>False</td>\n",
       "    </tr>\n",
       "  </tbody>\n",
       "</table>\n",
       "</div>"
      ],
      "text/plain": [
       "     date_time_called date_time_Retrieved          date_time1  \\\n",
       "2171              NaT                 NaT 2018-07-10 18:21:00   \n",
       "2172              NaT                 NaT                 NaT   \n",
       "\n",
       "              date_time2          date_time3 Second_date_Call_Time  \\\n",
       "2171 2018-07-12 11:53:00 2018-08-20 11:00:00   2018-08-20 08:27:00   \n",
       "2172                 NaT                 NaT                   NaT   \n",
       "\n",
       "     Third_date_Call_Time Fourth_date_Call_Time Case Number       Phone #  \\\n",
       "2171  2018-08-20 11:14:00                   NaT         NaN  510-927-6379   \n",
       "2172                  NaT                   NaT         NaN           NaN   \n",
       "\n",
       "        ID  Entered into HMIS One Door  Call Not Appropriate for One Door  \n",
       "2171  2717                       False                              False  \n",
       "2172  2701                       False                              False  "
      ]
     },
     "execution_count": 85,
     "metadata": {},
     "output_type": "execute_result"
    }
   ],
   "source": [
    "oned2[oned2.date_time_called.isnull()] #looking at the null values "
   ]
  },
  {
   "cell_type": "code",
   "execution_count": 86,
   "metadata": {},
   "outputs": [],
   "source": [
    "#drop Nans from date time called \n",
    "oned2.dropna(subset=['date_time_called'],axis=0, inplace=True)"
   ]
  },
  {
   "cell_type": "code",
   "execution_count": 87,
   "metadata": {},
   "outputs": [
    {
     "data": {
      "text/html": [
       "<div>\n",
       "<style scoped>\n",
       "    .dataframe tbody tr th:only-of-type {\n",
       "        vertical-align: middle;\n",
       "    }\n",
       "\n",
       "    .dataframe tbody tr th {\n",
       "        vertical-align: top;\n",
       "    }\n",
       "\n",
       "    .dataframe thead th {\n",
       "        text-align: right;\n",
       "    }\n",
       "</style>\n",
       "<table border=\"1\" class=\"dataframe\">\n",
       "  <thead>\n",
       "    <tr style=\"text-align: right;\">\n",
       "      <th></th>\n",
       "      <th>date_time_called</th>\n",
       "      <th>date_time_Retrieved</th>\n",
       "      <th>date_time1</th>\n",
       "      <th>date_time2</th>\n",
       "      <th>date_time3</th>\n",
       "      <th>Second_date_Call_Time</th>\n",
       "    </tr>\n",
       "  </thead>\n",
       "  <tbody>\n",
       "    <tr>\n",
       "      <th>0</th>\n",
       "      <td>2018-08-01 13:18:00</td>\n",
       "      <td>2018-08-01 15:18:00</td>\n",
       "      <td>2018-08-01 15:20:00</td>\n",
       "      <td>2018-08-02 11:27:00</td>\n",
       "      <td>2018-08-02 12:49:00</td>\n",
       "      <td>NaT</td>\n",
       "    </tr>\n",
       "    <tr>\n",
       "      <th>1</th>\n",
       "      <td>2018-06-13 10:49:00</td>\n",
       "      <td>2018-06-13 12:36:00</td>\n",
       "      <td>2018-06-13 15:38:00</td>\n",
       "      <td>2018-06-21 10:50:00</td>\n",
       "      <td>NaT</td>\n",
       "      <td>2018-06-14 11:48:00</td>\n",
       "    </tr>\n",
       "    <tr>\n",
       "      <th>2</th>\n",
       "      <td>2018-06-08 09:40:00</td>\n",
       "      <td>2018-06-08 09:59:00</td>\n",
       "      <td>2018-06-08 14:30:00</td>\n",
       "      <td>2018-06-11 11:18:00</td>\n",
       "      <td>2018-06-11 16:28:00</td>\n",
       "      <td>2018-06-08 14:22:00</td>\n",
       "    </tr>\n",
       "    <tr>\n",
       "      <th>3</th>\n",
       "      <td>2018-08-15 12:27:00</td>\n",
       "      <td>NaT</td>\n",
       "      <td>2018-08-15 12:27:00</td>\n",
       "      <td>NaT</td>\n",
       "      <td>NaT</td>\n",
       "      <td>NaT</td>\n",
       "    </tr>\n",
       "    <tr>\n",
       "      <th>4</th>\n",
       "      <td>2018-08-09 10:31:00</td>\n",
       "      <td>NaT</td>\n",
       "      <td>2018-08-09 10:31:00</td>\n",
       "      <td>NaT</td>\n",
       "      <td>NaT</td>\n",
       "      <td>NaT</td>\n",
       "    </tr>\n",
       "  </tbody>\n",
       "</table>\n",
       "</div>"
      ],
      "text/plain": [
       "     date_time_called date_time_Retrieved          date_time1  \\\n",
       "0 2018-08-01 13:18:00 2018-08-01 15:18:00 2018-08-01 15:20:00   \n",
       "1 2018-06-13 10:49:00 2018-06-13 12:36:00 2018-06-13 15:38:00   \n",
       "2 2018-06-08 09:40:00 2018-06-08 09:59:00 2018-06-08 14:30:00   \n",
       "3 2018-08-15 12:27:00                 NaT 2018-08-15 12:27:00   \n",
       "4 2018-08-09 10:31:00                 NaT 2018-08-09 10:31:00   \n",
       "\n",
       "           date_time2          date_time3 Second_date_Call_Time  \n",
       "0 2018-08-02 11:27:00 2018-08-02 12:49:00                   NaT  \n",
       "1 2018-06-21 10:50:00                 NaT   2018-06-14 11:48:00  \n",
       "2 2018-06-11 11:18:00 2018-06-11 16:28:00   2018-06-08 14:22:00  \n",
       "3                 NaT                 NaT                   NaT  \n",
       "4                 NaT                 NaT                   NaT  "
      ]
     },
     "execution_count": 87,
     "metadata": {},
     "output_type": "execute_result"
    }
   ],
   "source": [
    "oned2.iloc[:,0:6].head()#show first 5 of a selected columns"
   ]
  },
  {
   "cell_type": "code",
   "execution_count": 88,
   "metadata": {},
   "outputs": [
    {
     "data": {
      "text/html": [
       "<div>\n",
       "<style scoped>\n",
       "    .dataframe tbody tr th:only-of-type {\n",
       "        vertical-align: middle;\n",
       "    }\n",
       "\n",
       "    .dataframe tbody tr th {\n",
       "        vertical-align: top;\n",
       "    }\n",
       "\n",
       "    .dataframe thead th {\n",
       "        text-align: right;\n",
       "    }\n",
       "</style>\n",
       "<table border=\"1\" class=\"dataframe\">\n",
       "  <thead>\n",
       "    <tr style=\"text-align: right;\">\n",
       "      <th></th>\n",
       "      <th>date_time_called</th>\n",
       "      <th>date_time_Retrieved</th>\n",
       "      <th>date_time1</th>\n",
       "      <th>date_time2</th>\n",
       "      <th>date_time3</th>\n",
       "      <th>Second_date_Call_Time</th>\n",
       "      <th>Third_date_Call_Time</th>\n",
       "      <th>Fourth_date_Call_Time</th>\n",
       "      <th>Case Number</th>\n",
       "      <th>Phone #</th>\n",
       "      <th>ID</th>\n",
       "      <th>Entered into HMIS One Door</th>\n",
       "      <th>Call Not Appropriate for One Door</th>\n",
       "      <th>Last_contact</th>\n",
       "    </tr>\n",
       "  </thead>\n",
       "  <tbody>\n",
       "    <tr>\n",
       "      <th>0</th>\n",
       "      <td>2018-08-01 13:18:00</td>\n",
       "      <td>2018-08-01 15:18:00</td>\n",
       "      <td>2018-08-01 15:20:00</td>\n",
       "      <td>2018-08-02 11:27:00</td>\n",
       "      <td>2018-08-02 12:49:00</td>\n",
       "      <td>NaT</td>\n",
       "      <td>NaT</td>\n",
       "      <td>NaT</td>\n",
       "      <td>518664384</td>\n",
       "      <td>925-864-4235</td>\n",
       "      <td>3281</td>\n",
       "      <td>True</td>\n",
       "      <td>False</td>\n",
       "      <td>2018-08-02 12:49:00</td>\n",
       "    </tr>\n",
       "    <tr>\n",
       "      <th>1</th>\n",
       "      <td>2018-06-13 10:49:00</td>\n",
       "      <td>2018-06-13 12:36:00</td>\n",
       "      <td>2018-06-13 15:38:00</td>\n",
       "      <td>2018-06-21 10:50:00</td>\n",
       "      <td>NaT</td>\n",
       "      <td>2018-06-14 11:48:00</td>\n",
       "      <td>2018-06-20 11:20:00</td>\n",
       "      <td>NaT</td>\n",
       "      <td>949CEF41C</td>\n",
       "      <td>925-848-9127</td>\n",
       "      <td>2098</td>\n",
       "      <td>False</td>\n",
       "      <td>False</td>\n",
       "      <td>2018-06-20 11:20:00</td>\n",
       "    </tr>\n",
       "  </tbody>\n",
       "</table>\n",
       "</div>"
      ],
      "text/plain": [
       "     date_time_called date_time_Retrieved          date_time1  \\\n",
       "0 2018-08-01 13:18:00 2018-08-01 15:18:00 2018-08-01 15:20:00   \n",
       "1 2018-06-13 10:49:00 2018-06-13 12:36:00 2018-06-13 15:38:00   \n",
       "\n",
       "           date_time2          date_time3 Second_date_Call_Time  \\\n",
       "0 2018-08-02 11:27:00 2018-08-02 12:49:00                   NaT   \n",
       "1 2018-06-21 10:50:00                 NaT   2018-06-14 11:48:00   \n",
       "\n",
       "  Third_date_Call_Time Fourth_date_Call_Time Case Number       Phone #    ID  \\\n",
       "0                  NaT                   NaT   518664384  925-864-4235  3281   \n",
       "1  2018-06-20 11:20:00                   NaT   949CEF41C  925-848-9127  2098   \n",
       "\n",
       "   Entered into HMIS One Door  Call Not Appropriate for One Door  \\\n",
       "0                        True                              False   \n",
       "1                       False                              False   \n",
       "\n",
       "         Last_contact  \n",
       "0 2018-08-02 12:49:00  \n",
       "1 2018-06-20 11:20:00  "
      ]
     },
     "execution_count": 88,
     "metadata": {},
     "output_type": "execute_result"
    }
   ],
   "source": [
    "#add a column for the last date contacted\n",
    "def lastdate(x):\n",
    "    '''\n",
    "    funtion takes in a dataset looks for the last valid number\n",
    "    of each available column and then returns a list \n",
    "    of last valid numbers\n",
    "    \n",
    "    '''\n",
    "    if x.last_valid_index() is None:\n",
    "        return None\n",
    "    else:\n",
    "        return x[x.last_valid_index()]\n",
    "    \n",
    "oned2['Last_contact']= oned2[oned2.columns.drop(['Case Number', 'Phone #', 'ID',\n",
    "       'Entered into HMIS One Door', 'Call Not Appropriate for One Door'])].apply(lastdate,axis=1)\n",
    "oned2.head(2) #show a few rows"
   ]
  },
  {
   "cell_type": "markdown",
   "metadata": {},
   "source": [
    "#### Getting the average difference between the time the clients called the agency and the time the responsible employees were able to return their calls\n",
    "* Diff1 --diff between date the client called and the date of voice mail retrieval by one door\n",
    "* Diff2 --diff between date of first contact and first call back\n",
    "* Diff3 --diff between date of first contact and last contact\n"
   ]
  },
  {
   "cell_type": "code",
   "execution_count": 89,
   "metadata": {},
   "outputs": [],
   "source": [
    "oned2['diff1']= oned2['date_time_Retrieved'].sub(oned2['date_time_called'], axis=0)\n",
    "oned2['diff2']= oned2['date_time1'].sub(oned2['date_time_called'], axis=0)\n",
    "oned2['diff3']= oned2['Last_contact'].sub(oned2['date_time_called'], axis=0)"
   ]
  },
  {
   "cell_type": "code",
   "execution_count": 90,
   "metadata": {},
   "outputs": [],
   "source": [
    "#changing the diff columns to minutes\n",
    "oned2['diff1']  = oned2['diff1'].astype('timedelta64[m]') \n",
    "oned2['diff2']  = oned2['diff2'].astype('timedelta64[m]')\n",
    "oned2['diff3']  = oned2['diff3'].astype('timedelta64[m]')"
   ]
  },
  {
   "cell_type": "markdown",
   "metadata": {},
   "source": [
    "#### Looking at the statistics of the table"
   ]
  },
  {
   "cell_type": "code",
   "execution_count": 91,
   "metadata": {},
   "outputs": [
    {
     "data": {
      "text/html": [
       "<div>\n",
       "<style scoped>\n",
       "    .dataframe tbody tr th:only-of-type {\n",
       "        vertical-align: middle;\n",
       "    }\n",
       "\n",
       "    .dataframe tbody tr th {\n",
       "        vertical-align: top;\n",
       "    }\n",
       "\n",
       "    .dataframe thead th {\n",
       "        text-align: right;\n",
       "    }\n",
       "</style>\n",
       "<table border=\"1\" class=\"dataframe\">\n",
       "  <thead>\n",
       "    <tr style=\"text-align: right;\">\n",
       "      <th></th>\n",
       "      <th>diff1</th>\n",
       "      <th>diff2</th>\n",
       "      <th>diff3</th>\n",
       "    </tr>\n",
       "  </thead>\n",
       "  <tbody>\n",
       "    <tr>\n",
       "      <th>count</th>\n",
       "      <td>2164.000000</td>\n",
       "      <td>2147.000000</td>\n",
       "      <td>2171.000000</td>\n",
       "    </tr>\n",
       "    <tr>\n",
       "      <th>mean</th>\n",
       "      <td>615.587800</td>\n",
       "      <td>2211.983698</td>\n",
       "      <td>6659.815292</td>\n",
       "    </tr>\n",
       "    <tr>\n",
       "      <th>std</th>\n",
       "      <td>1069.916078</td>\n",
       "      <td>2174.096379</td>\n",
       "      <td>14488.464415</td>\n",
       "    </tr>\n",
       "    <tr>\n",
       "      <th>min</th>\n",
       "      <td>-1333.000000</td>\n",
       "      <td>0.000000</td>\n",
       "      <td>-4076.000000</td>\n",
       "    </tr>\n",
       "    <tr>\n",
       "      <th>25%</th>\n",
       "      <td>78.000000</td>\n",
       "      <td>1250.000000</td>\n",
       "      <td>1291.000000</td>\n",
       "    </tr>\n",
       "    <tr>\n",
       "      <th>50%</th>\n",
       "      <td>179.000000</td>\n",
       "      <td>1476.000000</td>\n",
       "      <td>1738.000000</td>\n",
       "    </tr>\n",
       "    <tr>\n",
       "      <th>75%</th>\n",
       "      <td>904.000000</td>\n",
       "      <td>2955.500000</td>\n",
       "      <td>4562.000000</td>\n",
       "    </tr>\n",
       "    <tr>\n",
       "      <th>max</th>\n",
       "      <td>10165.000000</td>\n",
       "      <td>59065.000000</td>\n",
       "      <td>132723.000000</td>\n",
       "    </tr>\n",
       "  </tbody>\n",
       "</table>\n",
       "</div>"
      ],
      "text/plain": [
       "              diff1         diff2          diff3\n",
       "count   2164.000000   2147.000000    2171.000000\n",
       "mean     615.587800   2211.983698    6659.815292\n",
       "std     1069.916078   2174.096379   14488.464415\n",
       "min    -1333.000000      0.000000   -4076.000000\n",
       "25%       78.000000   1250.000000    1291.000000\n",
       "50%      179.000000   1476.000000    1738.000000\n",
       "75%      904.000000   2955.500000    4562.000000\n",
       "max    10165.000000  59065.000000  132723.000000"
      ]
     },
     "execution_count": 91,
     "metadata": {},
     "output_type": "execute_result"
    }
   ],
   "source": [
    "oned2.describe()"
   ]
  },
  {
   "cell_type": "markdown",
   "metadata": {},
   "source": [
    "similar to the receptionist dataset. From the above statistics, I realised that their are some negative values, this shows that there were data entry errors. (Voice mails were retrieved before the client called) Iam going to run the statistics again minus records with data entry errors. its important to note that diff2, didnt have that problem so I shall only deal with diff3 and diff1"
   ]
  },
  {
   "cell_type": "code",
   "execution_count": 109,
   "metadata": {},
   "outputs": [
    {
     "data": {
      "text/html": [
       "<div>\n",
       "<style scoped>\n",
       "    .dataframe tbody tr th:only-of-type {\n",
       "        vertical-align: middle;\n",
       "    }\n",
       "\n",
       "    .dataframe tbody tr th {\n",
       "        vertical-align: top;\n",
       "    }\n",
       "\n",
       "    .dataframe thead th {\n",
       "        text-align: right;\n",
       "    }\n",
       "</style>\n",
       "<table border=\"1\" class=\"dataframe\">\n",
       "  <thead>\n",
       "    <tr style=\"text-align: right;\">\n",
       "      <th></th>\n",
       "      <th>diff1</th>\n",
       "    </tr>\n",
       "  </thead>\n",
       "  <tbody>\n",
       "    <tr>\n",
       "      <th>count</th>\n",
       "      <td>2117.000000</td>\n",
       "    </tr>\n",
       "    <tr>\n",
       "      <th>mean</th>\n",
       "      <td>639.965045</td>\n",
       "    </tr>\n",
       "    <tr>\n",
       "      <th>std</th>\n",
       "      <td>1068.281624</td>\n",
       "    </tr>\n",
       "    <tr>\n",
       "      <th>min</th>\n",
       "      <td>0.000000</td>\n",
       "    </tr>\n",
       "    <tr>\n",
       "      <th>25%</th>\n",
       "      <td>84.000000</td>\n",
       "    </tr>\n",
       "    <tr>\n",
       "      <th>50%</th>\n",
       "      <td>188.000000</td>\n",
       "    </tr>\n",
       "    <tr>\n",
       "      <th>75%</th>\n",
       "      <td>946.000000</td>\n",
       "    </tr>\n",
       "    <tr>\n",
       "      <th>max</th>\n",
       "      <td>10165.000000</td>\n",
       "    </tr>\n",
       "  </tbody>\n",
       "</table>\n",
       "</div>"
      ],
      "text/plain": [
       "              diff1\n",
       "count   2117.000000\n",
       "mean     639.965045\n",
       "std     1068.281624\n",
       "min        0.000000\n",
       "25%       84.000000\n",
       "50%      188.000000\n",
       "75%      946.000000\n",
       "max    10165.000000"
      ]
     },
     "execution_count": 109,
     "metadata": {},
     "output_type": "execute_result"
    }
   ],
   "source": [
    "#creating sebsets of the data with only differences columns\n",
    "#diff1\n",
    "diffs =oned2[['diff1','Case Number']]\n",
    "diffs[diffs['diff1']>=0].describe()"
   ]
  },
  {
   "cell_type": "markdown",
   "metadata": {},
   "source": [
    "From the above we can see that the mean of the 2117 calls was 639 minutes and maximmum minutes were 10,165<br>\n",
    "Now looking at the statistics of diff3 with out errors"
   ]
  },
  {
   "cell_type": "code",
   "execution_count": 110,
   "metadata": {},
   "outputs": [
    {
     "data": {
      "text/html": [
       "<div>\n",
       "<style scoped>\n",
       "    .dataframe tbody tr th:only-of-type {\n",
       "        vertical-align: middle;\n",
       "    }\n",
       "\n",
       "    .dataframe tbody tr th {\n",
       "        vertical-align: top;\n",
       "    }\n",
       "\n",
       "    .dataframe thead th {\n",
       "        text-align: right;\n",
       "    }\n",
       "</style>\n",
       "<table border=\"1\" class=\"dataframe\">\n",
       "  <thead>\n",
       "    <tr style=\"text-align: right;\">\n",
       "      <th></th>\n",
       "      <th>diff3</th>\n",
       "    </tr>\n",
       "  </thead>\n",
       "  <tbody>\n",
       "    <tr>\n",
       "      <th>count</th>\n",
       "      <td>2160.000000</td>\n",
       "    </tr>\n",
       "    <tr>\n",
       "      <th>mean</th>\n",
       "      <td>6696.433796</td>\n",
       "    </tr>\n",
       "    <tr>\n",
       "      <th>std</th>\n",
       "      <td>14515.981451</td>\n",
       "    </tr>\n",
       "    <tr>\n",
       "      <th>min</th>\n",
       "      <td>0.000000</td>\n",
       "    </tr>\n",
       "    <tr>\n",
       "      <th>25%</th>\n",
       "      <td>1294.750000</td>\n",
       "    </tr>\n",
       "    <tr>\n",
       "      <th>50%</th>\n",
       "      <td>1748.500000</td>\n",
       "    </tr>\n",
       "    <tr>\n",
       "      <th>75%</th>\n",
       "      <td>4576.500000</td>\n",
       "    </tr>\n",
       "    <tr>\n",
       "      <th>max</th>\n",
       "      <td>132723.000000</td>\n",
       "    </tr>\n",
       "  </tbody>\n",
       "</table>\n",
       "</div>"
      ],
      "text/plain": [
       "               diff3\n",
       "count    2160.000000\n",
       "mean     6696.433796\n",
       "std     14515.981451\n",
       "min         0.000000\n",
       "25%      1294.750000\n",
       "50%      1748.500000\n",
       "75%      4576.500000\n",
       "max    132723.000000"
      ]
     },
     "execution_count": 110,
     "metadata": {},
     "output_type": "execute_result"
    }
   ],
   "source": [
    "#diff3\n",
    "diff_3 =oned2[['diff3','Case Number']]\n",
    "diff_3[diff_3['diff3']>=0].describe()"
   ]
  },
  {
   "cell_type": "markdown",
   "metadata": {},
   "source": [
    "From the above we can see that the mean of the 2160  calls was 6696 minutes and maximmum minutes were 132,723"
   ]
  },
  {
   "cell_type": "markdown",
   "metadata": {},
   "source": [
    "### Taking a closer look at the time difference between, first contact and last contact."
   ]
  },
  {
   "cell_type": "code",
   "execution_count": 120,
   "metadata": {},
   "outputs": [
    {
     "data": {
      "text/plain": [
       "(2160, 17)"
      ]
     },
     "execution_count": 120,
     "metadata": {},
     "output_type": "execute_result"
    }
   ],
   "source": [
    "#ignore negative Values\n",
    "diff3_Postive =oned2[oned2.diff3 >= 0]\n",
    "diff3_Postive.shape"
   ]
  },
  {
   "cell_type": "code",
   "execution_count": 121,
   "metadata": {},
   "outputs": [],
   "source": [
    "#send it to excel\n",
    "diff3_Postive.to_csv('positiveDiff3.csv')\n",
    "#bring it back in\n",
    "posDiff3=pd.read_csv('positiveDiff3.csv')\n",
    "posDiff3= pd.DataFrame(posDiff3)"
   ]
  },
  {
   "cell_type": "markdown",
   "metadata": {},
   "source": [
    "### Create categorical variables from diff3 and a histogram to show distributions of the variable"
   ]
  },
  {
   "cell_type": "code",
   "execution_count": 122,
   "metadata": {},
   "outputs": [
    {
     "data": {
      "text/plain": [
       "(levels\n",
       " Low       2078\n",
       " Medium      57\n",
       " High        17\n",
       " dtype: int64, array([     0.,  44241.,  88482., 132723.]))"
      ]
     },
     "execution_count": 122,
     "metadata": {},
     "output_type": "execute_result"
    }
   ],
   "source": [
    "bins = np.linspace(min(posDiff3['diff3']),max(posDiff3['diff3']),num=4)#create bins\n",
    "posDiff3[\"levels\"] = pd.cut(posDiff3['diff3'],bins,labels= ['Low','Medium','High'])#divide dataset\n",
    "posDiff3.groupby(\"levels\").size(), bins #show bin sises and bins"
   ]
  },
  {
   "cell_type": "code",
   "execution_count": 123,
   "metadata": {},
   "outputs": [
    {
     "data": {
      "text/plain": [
       "<seaborn.axisgrid.FacetGrid at 0xae6dda0>"
      ]
     },
     "execution_count": 123,
     "metadata": {},
     "output_type": "execute_result"
    },
    {
     "data": {
      "image/png": "[encoded data removed]",
      "text/plain": [
       "<Figure size 288x288 with 1 Axes>"
      ]
     },
     "metadata": {},
     "output_type": "display_data"
    }
   ],
   "source": [
    "sb.factorplot('levels', order=['High','Medium','Low'], data= posDiff3, kind='count')"
   ]
  },
  {
   "cell_type": "markdown",
   "metadata": {},
   "source": [
    "From the above visual, it shows that most callers took less than 44,241 minutes to get a referal to a program"
   ]
  },
  {
   "cell_type": "markdown",
   "metadata": {},
   "source": [
    "### The Clarity dataset"
   ]
  },
  {
   "cell_type": "code",
   "execution_count": 112,
   "metadata": {},
   "outputs": [
    {
     "data": {
      "text/plain": [
       "Index(['Case Number', 'recommendation', ' Case Manager Assigned',\n",
       "       'Registration status', 'Full Name', 'Project Start Date',\n",
       "       'Project Exit Date', 'First Attempt Date', 'First Attempt Outcome',\n",
       "       'Second Attempt Date', 'Second Attempt Outcome', 'Third Attempt Date',\n",
       "       'Third Attempt Outcome', ' Appointment Date', 'Date Met with Applicant',\n",
       "       'Meeting Outcome', ' Meeting Outcome Date (For Manager Only)',\n",
       "       'Decision date', 'decision Notes', 'Decision Status',\n",
       "       'Time_diff In Days'],\n",
       "      dtype='object')"
      ]
     },
     "execution_count": 112,
     "metadata": {},
     "output_type": "execute_result"
    }
   ],
   "source": [
    "#Bringing in the clarity data\n",
    "hmis=pd.read_excel('claritydata1.xlsx')\n",
    "hmis.columns"
   ]
  },
  {
   "cell_type": "code",
   "execution_count": 113,
   "metadata": {},
   "outputs": [],
   "source": [
    "#drop unwanted columns\n",
    "hmis=hmis.drop(columns=[' Case Manager Assigned','Registration status', 'Full Name','First Attempt Outcome',\n",
    "                    'Decision date', 'decision Notes', ' Appointment Date','Second Attempt Outcome',\n",
    "                        'Third Attempt Outcome', 'Time_diff In Days','Meeting Outcome'])\n",
    "hmis.shape"
   ]
  },
  {
   "cell_type": "code",
   "execution_count": 114,
   "metadata": {},
   "outputs": [
    {
     "data": {
      "text/html": [
       "<div>\n",
       "<style scoped>\n",
       "    .dataframe tbody tr th:only-of-type {\n",
       "        vertical-align: middle;\n",
       "    }\n",
       "\n",
       "    .dataframe tbody tr th {\n",
       "        vertical-align: top;\n",
       "    }\n",
       "\n",
       "    .dataframe thead th {\n",
       "        text-align: right;\n",
       "    }\n",
       "</style>\n",
       "<table border=\"1\" class=\"dataframe\">\n",
       "  <thead>\n",
       "    <tr style=\"text-align: right;\">\n",
       "      <th></th>\n",
       "      <th>recommendation</th>\n",
       "      <th>Project Start Date</th>\n",
       "      <th>Project Exit Date</th>\n",
       "      <th>First Attempt Date</th>\n",
       "      <th>Second Attempt Date</th>\n",
       "      <th>Third Attempt Date</th>\n",
       "      <th>Date Met with Applicant</th>\n",
       "      <th>Meeting Outcome Date (For Manager Only)</th>\n",
       "      <th>Decision Status</th>\n",
       "    </tr>\n",
       "    <tr>\n",
       "      <th>Case Number</th>\n",
       "      <th></th>\n",
       "      <th></th>\n",
       "      <th></th>\n",
       "      <th></th>\n",
       "      <th></th>\n",
       "      <th></th>\n",
       "      <th></th>\n",
       "      <th></th>\n",
       "      <th></th>\n",
       "    </tr>\n",
       "  </thead>\n",
       "  <tbody>\n",
       "    <tr>\n",
       "      <th>029772534</th>\n",
       "      <td>HousingWORKS!</td>\n",
       "      <td>2018-07-24</td>\n",
       "      <td>2018-07-27</td>\n",
       "      <td>2018-08-03</td>\n",
       "      <td>NaT</td>\n",
       "      <td>NaT</td>\n",
       "      <td>2018-08-23</td>\n",
       "      <td>2018-08-23</td>\n",
       "      <td>Approved</td>\n",
       "    </tr>\n",
       "    <tr>\n",
       "      <th>430266134</th>\n",
       "      <td>HousingWORKS!</td>\n",
       "      <td>2018-08-27</td>\n",
       "      <td>2018-08-31</td>\n",
       "      <td>2018-09-05</td>\n",
       "      <td>2018-09-06</td>\n",
       "      <td>NaT</td>\n",
       "      <td>NaT</td>\n",
       "      <td>NaT</td>\n",
       "      <td>UN Known</td>\n",
       "    </tr>\n",
       "    <tr>\n",
       "      <th>518664384</th>\n",
       "      <td>Client will call back</td>\n",
       "      <td>2018-08-02</td>\n",
       "      <td>NaT</td>\n",
       "      <td>NaT</td>\n",
       "      <td>NaT</td>\n",
       "      <td>NaT</td>\n",
       "      <td>NaT</td>\n",
       "      <td>NaT</td>\n",
       "      <td>UN Known</td>\n",
       "    </tr>\n",
       "    <tr>\n",
       "      <th>579582158</th>\n",
       "      <td>AB109</td>\n",
       "      <td>2018-07-05</td>\n",
       "      <td>2018-07-05</td>\n",
       "      <td>2018-07-06</td>\n",
       "      <td>NaT</td>\n",
       "      <td>NaT</td>\n",
       "      <td>NaT</td>\n",
       "      <td>NaT</td>\n",
       "      <td>Refused Services</td>\n",
       "    </tr>\n",
       "    <tr>\n",
       "      <th>704181107</th>\n",
       "      <td>NaN</td>\n",
       "      <td>2018-07-31</td>\n",
       "      <td>2018-08-07</td>\n",
       "      <td>NaT</td>\n",
       "      <td>NaT</td>\n",
       "      <td>NaT</td>\n",
       "      <td>NaT</td>\n",
       "      <td>NaT</td>\n",
       "      <td>UN Known</td>\n",
       "    </tr>\n",
       "  </tbody>\n",
       "</table>\n",
       "</div>"
      ],
      "text/plain": [
       "                    recommendation Project Start Date Project Exit Date  \\\n",
       "Case Number                                                               \n",
       "029772534            HousingWORKS!         2018-07-24        2018-07-27   \n",
       "430266134            HousingWORKS!         2018-08-27        2018-08-31   \n",
       "518664384    Client will call back         2018-08-02               NaT   \n",
       "579582158                    AB109         2018-07-05        2018-07-05   \n",
       "704181107                      NaN         2018-07-31        2018-08-07   \n",
       "\n",
       "            First Attempt Date Second Attempt Date Third Attempt Date  \\\n",
       "Case Number                                                             \n",
       "029772534           2018-08-03                 NaT                NaT   \n",
       "430266134           2018-09-05          2018-09-06                NaT   \n",
       "518664384                  NaT                 NaT                NaT   \n",
       "579582158           2018-07-06                 NaT                NaT   \n",
       "704181107                  NaT                 NaT                NaT   \n",
       "\n",
       "            Date Met with Applicant  Meeting Outcome Date (For Manager Only)  \\\n",
       "Case Number                                                                    \n",
       "029772534                2018-08-23                               2018-08-23   \n",
       "430266134                       NaT                                      NaT   \n",
       "518664384                       NaT                                      NaT   \n",
       "579582158                       NaT                                      NaT   \n",
       "704181107                       NaT                                      NaT   \n",
       "\n",
       "              Decision Status  \n",
       "Case Number                    \n",
       "029772534            Approved  \n",
       "430266134            UN Known  \n",
       "518664384            UN Known  \n",
       "579582158    Refused Services  \n",
       "704181107            UN Known  "
      ]
     },
     "execution_count": 114,
     "metadata": {},
     "output_type": "execute_result"
    }
   ],
   "source": [
    "#make case number the index\n",
    "hmis=hmis.set_index(['Case Number'])\n",
    "hmis.head()"
   ]
  },
  {
   "cell_type": "code",
   "execution_count": 115,
   "metadata": {},
   "outputs": [
    {
     "name": "stdout",
     "output_type": "stream",
     "text": [
      "<class 'pandas.core.frame.DataFrame'>\n",
      "Index: 548 entries, 029772534 to FED2A9724\n",
      "Data columns (total 9 columns):\n",
      "recommendation                              544 non-null object\n",
      "Project Start Date                          548 non-null datetime64[ns]\n",
      "Project Exit Date                           431 non-null datetime64[ns]\n",
      "First Attempt Date                          208 non-null datetime64[ns]\n",
      "Second Attempt Date                         98 non-null datetime64[ns]\n",
      "Third Attempt Date                          55 non-null datetime64[ns]\n",
      "Date Met with Applicant                     61 non-null datetime64[ns]\n",
      " Meeting Outcome Date (For Manager Only)    147 non-null datetime64[ns]\n",
      "Decision Status                             548 non-null object\n",
      "dtypes: datetime64[ns](7), object(2)\n",
      "memory usage: 42.8+ KB\n"
     ]
    }
   ],
   "source": [
    "hmis.info() #look at the datatypes and all"
   ]
  },
  {
   "cell_type": "code",
   "execution_count": 116,
   "metadata": {},
   "outputs": [
    {
     "data": {
      "text/plain": [
       "(548, 10)"
      ]
     },
     "execution_count": 116,
     "metadata": {},
     "output_type": "execute_result"
    }
   ],
   "source": [
    "# write a formula that creates the dicision date, \n",
    "def decision(x):\n",
    "    if x.last_valid_index()is None:\n",
    "        return None\n",
    "    else:\n",
    "        return x[x.last_valid_index()]\n",
    "\n",
    "\n",
    "hmis['decision_date']=hmis[hmis.columns.drop(['recommendation','Decision Status'])].apply(decision,axis=1)\n",
    "hmis.shape"
   ]
  },
  {
   "cell_type": "code",
   "execution_count": 117,
   "metadata": {},
   "outputs": [],
   "source": [
    "#create the difference columns\n",
    "hmis['Final_diff']= hmis['decision_date'].sub(hmis['Project Start Date'])\n",
    "#send hmis data to excel\n",
    "hmis.to_excel('hmis.xlsx')"
   ]
  },
  {
   "cell_type": "code",
   "execution_count": 118,
   "metadata": {},
   "outputs": [
    {
     "data": {
      "text/html": [
       "<div>\n",
       "<style scoped>\n",
       "    .dataframe tbody tr th:only-of-type {\n",
       "        vertical-align: middle;\n",
       "    }\n",
       "\n",
       "    .dataframe tbody tr th {\n",
       "        vertical-align: top;\n",
       "    }\n",
       "\n",
       "    .dataframe thead th {\n",
       "        text-align: right;\n",
       "    }\n",
       "</style>\n",
       "<table border=\"1\" class=\"dataframe\">\n",
       "  <thead>\n",
       "    <tr style=\"text-align: right;\">\n",
       "      <th></th>\n",
       "      <th>Final_diff</th>\n",
       "    </tr>\n",
       "  </thead>\n",
       "  <tbody>\n",
       "    <tr>\n",
       "      <th>count</th>\n",
       "      <td>548</td>\n",
       "    </tr>\n",
       "    <tr>\n",
       "      <th>mean</th>\n",
       "      <td>8 days 05:54:44.671532</td>\n",
       "    </tr>\n",
       "    <tr>\n",
       "      <th>std</th>\n",
       "      <td>13 days 02:17:04.380292</td>\n",
       "    </tr>\n",
       "    <tr>\n",
       "      <th>min</th>\n",
       "      <td>0 days 00:00:00</td>\n",
       "    </tr>\n",
       "    <tr>\n",
       "      <th>25%</th>\n",
       "      <td>0 days 00:00:00</td>\n",
       "    </tr>\n",
       "    <tr>\n",
       "      <th>50%</th>\n",
       "      <td>0 days 00:00:00</td>\n",
       "    </tr>\n",
       "    <tr>\n",
       "      <th>75%</th>\n",
       "      <td>12 days 00:00:00</td>\n",
       "    </tr>\n",
       "    <tr>\n",
       "      <th>max</th>\n",
       "      <td>69 days 00:00:00</td>\n",
       "    </tr>\n",
       "  </tbody>\n",
       "</table>\n",
       "</div>"
      ],
      "text/plain": [
       "                    Final_diff\n",
       "count                      548\n",
       "mean    8 days 05:54:44.671532\n",
       "std    13 days 02:17:04.380292\n",
       "min            0 days 00:00:00\n",
       "25%            0 days 00:00:00\n",
       "50%            0 days 00:00:00\n",
       "75%           12 days 00:00:00\n",
       "max           69 days 00:00:00"
      ]
     },
     "execution_count": 118,
     "metadata": {},
     "output_type": "execute_result"
    }
   ],
   "source": [
    "hmis.describe()"
   ]
  },
  {
   "cell_type": "markdown",
   "metadata": {},
   "source": [
    "From the above we can see that it takes on average 8 days for the clients to get a decision from the time of referal by one door.\n",
    "#### I will now join the tables together for an all round analysis"
   ]
  },
  {
   "cell_type": "code",
   "execution_count": null,
   "metadata": {},
   "outputs": [],
   "source": []
  }
 ],
 "metadata": {
  "kernelspec": {
   "display_name": "Python 3",
   "language": "python",
   "name": "python3"
  },
  "language_info": {
   "codemirror_mode": {
    "name": "ipython",
    "version": 3
   },
   "file_extension": ".py",
   "mimetype": "text/x-python",
   "name": "python",
   "nbconvert_exporter": "python",
   "pygments_lexer": "ipython3",
   "version": "3.6.5"
  }
 },
 "nbformat": 4,
 "nbformat_minor": 2
}
